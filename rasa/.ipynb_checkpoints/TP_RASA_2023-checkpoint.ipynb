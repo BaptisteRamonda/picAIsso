{
 "cells": [
  {
   "cell_type": "markdown",
   "metadata": {},
   "source": [
    "# TP AGENTS CONVERSATIONNELS : TP rasa (version 2.8)\n",
    "\n",
    "### Tutoriel disponible en ligne\n",
    "\n",
    "Accéder à la page suivante : https://rasa.com/docs/rasa/2.x/\n",
    "A travers cette page, procéder aux différentes étapes de développement d'un chatbot. Ce notebook sert de compte rendu et devra être déposé à l'issue des séances. Travail individuel ou en binôme. \n",
    "\n",
    "#### NOM ETUDIANT : Baptiste RAMONDA"
   ]
  },
  {
   "cell_type": "markdown",
   "metadata": {},
   "source": [
    "### ENVIRONNEMENT DE TRAVAIL MFJA ou PC PERSO  "
   ]
  },
  {
   "cell_type": "markdown",
   "metadata": {},
   "source": [
    " Suivant le cas :"
   ]
  },
  {
   "cell_type": "markdown",
   "metadata": {},
   "source": [
    "#### TP sur les machines de la MFJA"
   ]
  },
  {
   "cell_type": "markdown",
   "metadata": {},
   "source": [
    "Si vous êtes sur les PC de la MFJA, connectez-vous sous Windows (seul choix possible)\n",
    "        \n",
    "1- Lancer la machine virtuelle (VMware) nommée Ubuntu 64-bit_SRI_PAROLE (dédiée aux TP de parole 2A et 3A SRI),sous ``C:\\VWware\\Ubuntu 64-bit_SRI_PAROLE_2023``\n",
    "\n",
    "    ==> cliquer sur la machine = icône 3 carrés imbriqués\n",
    "        - Ne pas saisir de licence --> Continue\n",
    "        - Sélectionner I copied It et Skip this version\n",
    "        \n",
    "    ==> la machine est lancée avec le login sriparole \n",
    "    \n",
    "    ==> le mot de passe vous sera donné en séance \n",
    "\n",
    "2- Aller dans le dossier dédié ``home/Documents/SRI3A_TP_RASA`` \n",
    "\n",
    "3- Créer un Dossier à votre nom TP_RASA_VOTRE_NOM et vous y déplacer \n",
    "\n",
    "4- Activer l'environnement de travail --> rasa est installé dans un environnement virtuel conda \n",
    "\n",
    "5- Si conda est activé par défaut vous avez (base) dans le prompt sinon, depuis le terminal, lancer conda avec ``$ source ~/.bashrcCONDA``\n",
    "\n",
    "6- Une fois conda lancé vérifier la présence de l'environnement virtuel env_rasa2.8 dédié au TP  et l'activer avec : ``$ conda info -e`` suivi de ``$ conda activate env_rasa2.8``\n",
    "\n",
    "--> Vous devez avoir le prompt ``(env_rasa2.8) sriparole@sriparole-virtual-machine:~Documents/SRI3A_TP_RASA`` \n",
    "\n",
    "7- A la fin du TP quitter l'environnement avec ``$ conda deactivate``\n",
    "\n",
    "                \n",
    "Pour retrouver votre travail rester sur la même machine en salle de TP, sinon, en \n",
    "fin de séance faire une archive de votre répertoire de TP et déposez-là sur moodle \n",
    "ou sur votre drive.     "
   ]
  },
  {
   "cell_type": "markdown",
   "metadata": {},
   "source": [
    "#### TP sur votre machine"
   ]
  },
  {
   "cell_type": "markdown",
   "metadata": {},
   "source": [
    "Si vous avez installé rasa v2.8 sur votre PC (en suivant les directives sur moodle) et en ayant créé un environnement virtuel pour faire cette installation (avec conda de préférence), vous devez exécuter la commande ``$ rasa init`` depuis le terminal et sous le répertoire dédié au TP_RASA_VOTRE_NOM. A vous de voir où vous l'avez mis MAIS on ne travaille pas sous Téléchargements !!!\n",
    "            \n",
    "Pour installer conda voir https://docs.conda.io/projects/conda/en/latest/commands/install.html Positionnez-vous dans votre répertoire TP_RASA_VOTRE_NOM."
   ]
  },
  {
   "cell_type": "markdown",
   "metadata": {},
   "source": [
    "Dans les deux cas, vous êtes dans le répertoire TP_RASA_VOTRE_NOM. Créer une copie de CHATBOT_V0 situé dans le répertoire père et nommer la copie CHATBOT_V1_VOTRE_NOM. Vous déplacer dans ce dossier.\n",
    "\n",
    "Vous avez alors l'organisation suivante :\n",
    "\n",
    "    .\n",
    "    ├── actions\n",
    "    │   ├── __init__.py\n",
    "    │   └── actions.py\n",
    "    ├── config.yml\n",
    "    ├── credentials.yml\n",
    "    ├── data\n",
    "    │   ├── nlu.yml\n",
    "    │   └── stories.yml\n",
    "    ├── domain.yml\n",
    "    ├── endpoints.yml\n",
    "    ├── models\n",
    "    │   └── <timestamp>.tar.gz\n",
    "    └── tests\n",
    "       └── test_stories.yml\n",
    "    \n",
    "Votre chatbot est dans votre répertoire TP_RASA_VOTRE_NOM/CHATBOT_V1_VOTRE_NOM\n",
    "\n",
    "Il faudra faire une archive du chatbot développé par la suite. "
   ]
  },
  {
   "cell_type": "markdown",
   "metadata": {},
   "source": [
    "# PARTIE 1 : ETUDE DU CHATBOT DE BASE"
   ]
  },
  {
   "cell_type": "markdown",
   "metadata": {},
   "source": [
    "## 1 - Compréhension"
   ]
  },
  {
   "cell_type": "markdown",
   "metadata": {},
   "source": [
    "### 1.1 - INTENTS ET ENTITIES"
   ]
  },
  {
   "cell_type": "markdown",
   "metadata": {},
   "source": [
    "Observer le contenu du fichier \"data/nlu.yml\"."
   ]
  },
  {
   "cell_type": "raw",
   "metadata": {},
   "source": [
    "version: \"2.0\"\n",
    "\n",
    "nlu:\n",
    "- intent: greet\n",
    "  examples: |\n",
    "    - hey\n",
    "    - hello\n",
    "    - hi\n",
    "    - hello there\n",
    "    - good morning\n",
    "    - good evening\n",
    "    - moin\n",
    "    - hey there\n",
    "    - let's go\n",
    "    - hey dude\n",
    "    - goodmorning\n",
    "    - goodevening\n",
    "    - good afternoon\n",
    "\n",
    "- intent: goodbye\n",
    "  examples: |\n",
    "    - good afternoon\n",
    "    - cu\n",
    "    - good by\n",
    "    - cee you later\n",
    "    - good night\n",
    "    - bye\n",
    "    - goodbye\n",
    "    - have a nice day\n",
    "    - see you around\n",
    "    - bye bye\n",
    "    - see you later\n",
    "\n",
    "- intent: affirm\n",
    "  examples: |\n",
    "    - yes\n",
    "    - y\n",
    "    - indeed\n",
    "    - of course\n",
    "    - that sounds good\n",
    "    - correct\n",
    "\n",
    "- intent: deny\n",
    "  examples: |\n",
    "    - no\n",
    "    - n\n",
    "    - never\n",
    "    - I don't think so\n",
    "    - don't like that\n",
    "    - no way\n",
    "    - not really\n",
    "\n",
    "- intent: mood_great\n",
    "  examples: |\n",
    "    - perfect\n",
    "    - great\n",
    "    - amazing\n",
    "    - feeling like a king\n",
    "    - wonderful\n",
    "    - I am feeling very good\n",
    "    - I am great\n",
    "    - I am amazing\n",
    "    - I am going to save the world\n",
    "    - super stoked\n",
    "    - extremely good\n",
    "    - so so perfect\n",
    "    - so good\n",
    "    - so perfect\n",
    "\n",
    "- intent: mood_unhappy\n",
    "  examples: |\n",
    "    - my day was horrible\n",
    "    - I am sad\n",
    "    - I don't feel very well\n",
    "    - I am disappointed\n",
    "    - super sad\n",
    "    - I'm so sad\n",
    "    - sad\n",
    "    - very sad\n",
    "    - unhappy\n",
    "    - not good\n",
    "    - not very good\n",
    "    - extremly sad\n",
    "    - so saad\n",
    "    - so sad\n",
    "\n",
    "- intent: bot_challenge\n",
    "  examples: |\n",
    "    - are you a bot?\n",
    "    - are you a human?\n",
    "    - am I talking to a bot?\n",
    "    - am I talking to a human?"
   ]
  },
  {
   "cell_type": "markdown",
   "metadata": {},
   "source": [
    "#### Comment interprétez-vous le contenu de ce fichier (= commentez en quelques lignes) ? Combien d'intents et lesquelles ? Combien d'entités et lesquelles ?"
   ]
  },
  {
   "cell_type": "markdown",
   "metadata": {},
   "source": [
    "Le fichier ``data/nlu.yml`` définit les intents et entities d'un modèle d'apprentissage de langage naturel, il donne aussi des exemples d'usage pour chaque intention. On a ici sept intents: *greet*, *goodbye*, *affirm*, *deny*, *mood_great*, *mood_unhappy* et *bot_challenge*. En revanche, on remarque qu'il n'y a aucune entities (par l'absence de la syntaxe appropriée)."
   ]
  },
  {
   "cell_type": "markdown",
   "metadata": {},
   "source": [
    "## 2 - Configuration"
   ]
  },
  {
   "cell_type": "markdown",
   "metadata": {},
   "source": [
    "### 2.1 - PIPELINE ET POLICIES"
   ]
  },
  {
   "cell_type": "markdown",
   "metadata": {},
   "source": [
    "Observer le contenu du fichier \"config.yml\" - Celles-ci peuvent ne pas être commentées suivant les versions - commentaire # pipeline par défaut "
   ]
  },
  {
   "cell_type": "raw",
   "metadata": {},
   "source": [
    " # Configuration for Rasa NLU.\n",
    "# https://rasa.com/docs/rasa/nlu/components/\n",
    "language: en\n",
    "\n",
    "pipeline:\n",
    "# # No configuration for the NLU pipeline was provided. The following default pipeline was used to train your model.\n",
    "# # If you'd like to customize it, uncomment and adjust the pipeline.\n",
    "# # See https://rasa.com/docs/rasa/tuning-your-model for more information.\n",
    "#   - name: WhitespaceTokenizer\n",
    "#   - name: RegexFeaturizer\n",
    "#   - name: LexicalSyntacticFeaturizer\n",
    "#   - name: CountVectorsFeaturizer\n",
    "#   - name: CountVectorsFeaturizer\n",
    "#     analyzer: char_wb\n",
    "#     min_ngram: 1\n",
    "#     max_ngram: 4\n",
    "#   - name: DIETClassifier\n",
    "#     epochs: 100\n",
    "#   - name: EntitySynonymMapper\n",
    "#   - name: ResponseSelector\n",
    "#     epochs: 100\n",
    "#   - name: FallbackClassifier\n",
    "#     threshold: 0.3\n",
    "#     ambiguity_threshold: 0.1\n",
    "\n",
    "# Configuration for Rasa Core.\n",
    "# https://rasa.com/docs/rasa/core/policies/\n",
    "policies:\n",
    "# # No configuration for policies was provided. The following default policies were used to train your model.\n",
    "# # If you'd like to customize them, uncomment and adjust the policies.\n",
    "# # See https://rasa.com/docs/rasa/policies for more information.\n",
    "#   - name: MemoizationPolicy\n",
    "#   - name: TEDPolicy\n",
    "#     max_history: 5\n",
    "#     epochs: 100\n",
    "#   - name: RulePolicy"
   ]
  },
  {
   "cell_type": "markdown",
   "metadata": {},
   "source": [
    "#### Comment interprétez-vous le contenu de ce fichier ? Chacune des 3 parties ? "
   ]
  },
  {
   "cell_type": "markdown",
   "metadata": {},
   "source": [
    "Le fichier ``config.yml`` est destiné à la configuration d'un projet Rasa. La première partie charge le modèle et définit la langue du modèle. La deuxième partie concerne la configuration du pipeline, responsable de la compréhension du langage naturel. La troisième partie concerne la configuration de Rasa Core, qui gère le flux de la conversation et la prise de décision des actions du bot."
   ]
  },
  {
   "cell_type": "markdown",
   "metadata": {},
   "source": [
    "## 3 - Gestion de dialogue"
   ]
  },
  {
   "cell_type": "markdown",
   "metadata": {},
   "source": [
    "### 3.1 - STORIES"
   ]
  },
  {
   "cell_type": "markdown",
   "metadata": {},
   "source": [
    "Observer le contenu du fichier \"data/stories.yml\" "
   ]
  },
  {
   "cell_type": "raw",
   "metadata": {},
   "source": [
    "version: \"2.0\"\n",
    "\n",
    "stories:\n",
    "\n",
    "- story: happy path\n",
    "  steps:\n",
    "  - intent: greet\n",
    "  - action: utter_greet\n",
    "  - intent: mood_great\n",
    "  - action: utter_happy\n",
    "\n",
    "- story: sad path 1\n",
    "  steps:\n",
    "  - intent: greet\n",
    "  - action: utter_greet\n",
    "  - intent: mood_unhappy\n",
    "  - action: utter_cheer_up\n",
    "  - action: utter_did_that_help\n",
    "  - intent: affirm\n",
    "  - action: utter_happy\n",
    "\n",
    "- story: sad path 2\n",
    "  steps:\n",
    "  - intent: greet\n",
    "  - action: utter_greet\n",
    "  - intent: mood_unhappy\n",
    "  - action: utter_cheer_up\n",
    "  - action: utter_did_that_help\n",
    "  - intent: deny\n",
    "  - action: utter_goodbye"
   ]
  },
  {
   "cell_type": "markdown",
   "metadata": {},
   "source": [
    "#### Comment interprétez-vous le contenu de ce fichier ? Combien de stories ? Quel rôle ? "
   ]
  },
  {
   "cell_type": "markdown",
   "metadata": {},
   "source": [
    "Le fichier ``data/stories.yml`` est un fichier de configuration comportant trois *stories*. Ces stories servent à entraîner le modèle de langage du chatbot afin qu'il puisse répondre de manière contextuellement appropriée à l'utilisateur. Elles décrivent différents scénarios de conversation entre l'utilisateur et un chatbot. La première story, appelée *\"happy path\"*, illustre un scénario idéal où l'utilisateur est de bonne humeur, et le bot répond en conséquence. Les deux autres stories, *\"sad path 1\"* et *\"sad path 2\"*, décrivent des situations où l'utilisateur est initialement mécontent. Le chatbot tente de remonter le moral de l'utilisateur dans le premier cas et, en fonction de la réponse de l'utilisateur, réagit de manière appropriée, soit en exprimant la joie, soit en disant au revoir dans le deuxième cas."
   ]
  },
  {
   "cell_type": "markdown",
   "metadata": {},
   "source": [
    "### 3.2 - RULES"
   ]
  },
  {
   "cell_type": "markdown",
   "metadata": {},
   "source": [
    "Observer le contenu du fichier \"data/rules.yml\" "
   ]
  },
  {
   "cell_type": "raw",
   "metadata": {},
   "source": [
    "version: \"2.0\"\n",
    "\n",
    "rules:\n",
    "\n",
    "- rule: Say goodbye anytime the user says goodbye\n",
    "  steps:\n",
    "  - intent: goodbye\n",
    "  - action: utter_goodbye\n",
    "\n",
    "- rule: Say 'I am a bot' anytime the user challenges\n",
    "  steps:\n",
    "  - intent: bot_challenge\n",
    "  - action: utter_iamabot"
   ]
  },
  {
   "cell_type": "markdown",
   "metadata": {},
   "source": [
    "#### Comment interprétez-vous le contenu de ce fichier ? Combien de règles ? Quel rôle ? "
   ]
  },
  {
   "cell_type": "markdown",
   "metadata": {},
   "source": [
    "Le fichier ``data/rules.yml`` définit deux règles pour le système de dialogue. La première règle spécifie que si l'utilisateur exprime l'intention de partir en utilisant le mot-clé \"goodbye\", le système doit répondre en exécutant l'action \"utter_goodbye\", indiquant ainsi une réponse d'adieu. La seconde règle stipule que si l'utilisateur émet l'intention \"bot_challenge\" pour défier la nature du bot, le système doit répliquer en exécutant l'action \"utter_iamabot\", confirmant ainsi qu'il s'agit effectivement d'un bot. Cela permet de gérer correctement des interactions plus spécifiques avec l'utilisateur."
   ]
  },
  {
   "cell_type": "markdown",
   "metadata": {},
   "source": [
    "## 4 - Domaine"
   ]
  },
  {
   "cell_type": "markdown",
   "metadata": {},
   "source": [
    "Consultez le fichier décrivant l'environnement du chatbot. Observer le contenu du fichier \"domain.yml\" peut être légèrement différent suivant les versions. "
   ]
  },
  {
   "cell_type": "raw",
   "metadata": {},
   "source": [
    "session_config:\n",
    "  session_expiration_time: 60\n",
    "  carry_over_slots_to_new_session: true\n",
    "  \n",
    "intents:\n",
    "- greet\n",
    "- goodbye\n",
    "- affirm\n",
    "- deny\n",
    "- mood_great\n",
    "- mood_unhappy\n",
    "- bot_challenge\n",
    "\n",
    "responses:\n",
    "  utter_greet:\n",
    "  - text: Hey! How are you?\n",
    "  utter_cheer_up:\n",
    "  - image: https://i.imgur.com/nGF1K8f.jpg\n",
    "    text: 'Here is something to cheer you up:'\n",
    "  utter_did_that_help:\n",
    "  - text: Did that help you?\n",
    "  utter_happy:\n",
    "  - text: Great, carry on!\n",
    "  utter_goodbye:\n",
    "  - text: Bye\n",
    "  utter_iamabot:\n",
    "  - text: I am a bot, powered by Rasa."
   ]
  },
  {
   "cell_type": "markdown",
   "metadata": {},
   "source": [
    "#### Comment interprétez-vous le contenu de ce fichier ? Chacune des parties ? "
   ]
  },
  {
   "cell_type": "markdown",
   "metadata": {},
   "source": [
    "Le fichier de configuration ``domain.yml`` structure l'interaction du chatbot en définissant comment il interprète les messages des utilisateurs et comment il y répond. La première partie établit les paramètres de session du chatbot, fixant la durée à 60s et autorisant le transfert des slots d'une session à l'autre. Les intents, telles que les salutations, les adieux et les affirmations, sont définies pour permettre au chatbot de reconnaître les intentions de l'utilisateur. Les réponses associées à chaque intention, telles que des salutations personnalisées, des encouragements en cas d'humeur négative, et des adieux, sont précisées."
   ]
  },
  {
   "cell_type": "markdown",
   "metadata": {},
   "source": [
    "# PARTIE 2 : APPRENTISSAGE ET EVALUATION DU CHATBOT"
   ]
  },
  {
   "cell_type": "markdown",
   "metadata": {},
   "source": [
    "RASA a été installé en local dans l'environnement virtuel env_rasa2.8 construit avec conda. \n",
    "\n",
    "Il faut que c'est environnement ait été activé. \n",
    "==> voir détail dans la section ENVIRONNEMENT en début de sujet. "
   ]
  },
  {
   "cell_type": "markdown",
   "metadata": {},
   "source": [
    "## 5 - Apprentissage"
   ]
  },
  {
   "cell_type": "markdown",
   "metadata": {},
   "source": [
    "<span style=\"color:red\"> !!! ATTENTION A BIEN ETRE DANS VOTRE REPERTOIRE CHATBOT_V1_VOTRE_NOM !!! </span>\n",
    "\n",
    "### 5.1- Consultez le répertoire ./models de votre Chatbot si celui-ci contient un fichier <Nom_modele>.tar.gz supprimez ou renommez ce fichier.\n",
    "\n",
    "### 5.2- Depuis le répertoire CHATBOT_V1_VOTRE_NOM exécutez la commande : ``rasa train``"
   ]
  },
  {
   "cell_type": "markdown",
   "metadata": {},
   "source": [
    "#### Copier coller la trace de cette exécution :"
   ]
  },
  {
   "cell_type": "raw",
   "metadata": {},
   "source": [
    "(env_rasa2.8) baptister@LAPTOP-MHK00D58:~/CHATBOT_RAMONDA_V0$ rasa train\n",
    "The configuration for pipeline and policies was chosen automatically. It was written into the config file at 'config.yml'.\n",
    "Training NLU model...\n",
    "2023-12-06 14:24:41 INFO     rasa.shared.nlu.training_data.training_data  - Training data stats:\n",
    "2023-12-06 14:24:41 INFO     rasa.shared.nlu.training_data.training_data  - Number of intent examples: 69 (7 distinct intents)\n",
    "\n",
    "2023-12-06 14:24:41 INFO     rasa.shared.nlu.training_data.training_data  -   Found intents: 'greet', 'deny', 'bot_challenge', 'affirm', 'mood_great', 'mood_unhappy', 'goodbye'\n",
    "2023-12-06 14:24:41 INFO     rasa.shared.nlu.training_data.training_data  - Number of response examples: 0 (0 distinct responses)\n",
    "2023-12-06 14:24:41 INFO     rasa.shared.nlu.training_data.training_data  - Number of entity examples: 0 (0 distinct entities)\n",
    "2023-12-06 14:24:41 INFO     rasa.nlu.model  - Starting to train component WhitespaceTokenizer\n",
    "2023-12-06 14:24:41 INFO     rasa.nlu.model  - Finished training component.\n",
    "2023-12-06 14:24:41 INFO     rasa.nlu.model  - Starting to train component RegexFeaturizer\n",
    "2023-12-06 14:24:41 INFO     rasa.nlu.model  - Finished training component.\n",
    "2023-12-06 14:24:41 INFO     rasa.nlu.model  - Starting to train component LexicalSyntacticFeaturizer\n",
    "2023-12-06 14:24:41 INFO     rasa.nlu.model  - Finished training component.\n",
    "2023-12-06 14:24:41 INFO     rasa.nlu.model  - Starting to train component CountVectorsFeaturizer\n",
    "2023-12-06 14:24:41 INFO     rasa.nlu.featurizers.sparse_featurizer.count_vectors_featurizer  - 80 vocabulary items were created for text attribute.\n",
    "2023-12-06 14:24:41 INFO     rasa.nlu.model  - Finished training component.\n",
    "2023-12-06 14:24:41 INFO     rasa.nlu.model  - Starting to train component CountVectorsFeaturizer\n",
    "2023-12-06 14:24:41 INFO     rasa.nlu.featurizers.sparse_featurizer.count_vectors_featurizer  - 697 vocabulary items were created for text attribute.\n",
    "2023-12-06 14:24:41 INFO     rasa.nlu.model  - Finished training component.\n",
    "2023-12-06 14:24:41 INFO     rasa.nlu.model  - Starting to train component DIETClassifier\n",
    "2023-12-06 14:24:42.191130: E tensorflow/stream_executor/cuda/cuda_gpu_executor.cc:968] could not open file to read NUMA node: /sys/bus/pci/devices/0000:01:00.0/numa_node\n",
    "Your kernel may have been built without NUMA support.\n",
    "Epochs: 100%|███████████████████████████████████████████████████████████████████████████████████| 100/100 [00:12<00:00,  7.87it/s, t_loss=1.28, i_acc=0.986]\n",
    "2023-12-06 14:24:54 INFO     rasa.nlu.model  - Finished training component.\n",
    "2023-12-06 14:24:54 INFO     rasa.nlu.model  - Starting to train component EntitySynonymMapper\n",
    "2023-12-06 14:24:54 INFO     rasa.nlu.model  - Finished training component.\n",
    "2023-12-06 14:24:54 INFO     rasa.nlu.model  - Starting to train component ResponseSelector\n",
    "2023-12-06 14:24:54 INFO     rasa.nlu.selectors.response_selector  - Retrieval intent parameter was left to its default value. This response selector will be trained on training examples combining all retrieval intents.\n",
    "2023-12-06 14:24:54 INFO     rasa.nlu.model  - Finished training component.\n",
    "2023-12-06 14:24:54 INFO     rasa.nlu.model  - Starting to train component FallbackClassifier\n",
    "2023-12-06 14:24:54 INFO     rasa.nlu.model  - Finished training component.\n",
    "2023-12-06 14:24:55 INFO     rasa.nlu.model  - Successfully saved model into '/tmp/tmp2cfku4dm/nlu'\n",
    "NLU model training completed.\n",
    "Training Core model...\n",
    "2023-12-06 14:25:01 WARNING  rasa.shared.utils.common  - The UnexpecTED Intent Policy is currently experimental and might change or be removed in the future 🔬 Please share your feedback on it in the forum (https://forum.rasa.com) to help us make this feature ready for production.\n",
    "Processed story blocks: 100%|█████████████████████████████████████████████████████████████████████████████████| 3/3 [00:00<00:00, 2809.94it/s, # trackers=1]\n",
    "Processed story blocks: 100%|█████████████████████████████████████████████████████████████████████████████████| 3/3 [00:00<00:00, 1522.80it/s, # trackers=3]\n",
    "Processed story blocks: 100%|█████████████████████████████████████████████████████████████████████████████████| 3/3 [00:00<00:00, 405.09it/s, # trackers=12]\n",
    "Processed story blocks: 100%|██████████████████████████████████████████████████████████████████████████████████| 3/3 [00:00<00:00, 99.56it/s, # trackers=39]\n",
    "Processed rules: 100%|████████████████████████████████████████████████████████████████████████████████████████| 2/2 [00:00<00:00, 3797.47it/s, # trackers=1]\n",
    "Processed trackers: 100%|██████████████████████████████████████████████████████████████████████████████████████| 3/3 [00:00<00:00, 1895.30it/s, # action=12]\n",
    "Processed actions: 12it [00:00, 5320.47it/s, # examples=12]\n",
    "Processed trackers: 100%|███████████████████████████████████████████████████████████████████████████████████████| 2/2 [00:00<00:00, 3026.19it/s, # action=5]\n",
    "Processed actions: 5it [00:00, 16219.27it/s, # examples=4]\n",
    "Processed trackers: 100%|██████████████████████████████████████████████████████████████████████████████████████| 3/3 [00:00<00:00, 1807.11it/s, # action=12]\n",
    "Processed trackers: 100%|███████████████████████████████████████████████████████████████████████████████████████████████████| 2/2 [00:00<00:00, 2441.39it/s]\n",
    "Processed trackers: 100%|███████████████████████████████████████████████████████████████████████████████████████████████████| 5/5 [00:00<00:00, 2462.60it/s]\n",
    "Processed trackers: 100%|██████████████████████████████████████████████████████████████████████████████████| 120/120 [00:00<00:00, 5429.81it/s, # intent=12]\n",
    "Epochs: 100%|██████████████████████████████████████████████████████████████████████████| 100/100 [00:05<00:00, 17.13it/s, t_loss=0.121, loss=0.00584, acc=1]\n",
    "Processed trackers: 100%|██████████████████████████████████████████████████████████████████████████████████| 120/120 [00:00<00:00, 3276.31it/s, # action=30]\n",
    "Epochs: 100%|████████████████████████████████████████████████████████████████████████████| 100/100 [00:06<00:00, 15.60it/s, t_loss=0.588, loss=0.411, acc=1]\n",
    "2023-12-06 14:25:15 INFO     rasa.core.agent  - Persisted model to '/tmp/tmp2cfku4dm/core'\n",
    "Core model training completed.\n",
    "Your Rasa model is trained and saved at '/home/baptister/CHATBOT_RAMONDA_V0/models/20231206-142516.tar.gz'."
   ]
  },
  {
   "cell_type": "markdown",
   "metadata": {},
   "source": [
    "#### Comment interprétez-vous cette trace ? Faites le lien avec le fichier config.yml et commentez ce que vous pensez avoir compris. "
   ]
  },
  {
   "cell_type": "markdown",
   "metadata": {},
   "source": [
    "La trace ci-dessus indique que le modèle Rasa NLU a bien été configuré (la sauvegarde du modèle prouve que le processus d'entraînement s'est terminé avec succès). D'autre part, le modèle Rasa Core a lui aussi été configuré avec différentes politiques. Le processus d'entraînement a donc été accompli avec la configuration spécifiée dans le fichier `config.yml` (on retrouve les deux grandes parties NLU/Core). On peut aussi noter que les noms des composants installés sont bien ceux qui étaient commentés dans le fichier de configuration. On peut donc en déduire que les parties commentées correspondent à une configuration d'entraînement \"de base\"."
   ]
  },
  {
   "cell_type": "markdown",
   "metadata": {},
   "source": [
    "## 6 - Evaluation"
   ]
  },
  {
   "cell_type": "markdown",
   "metadata": {},
   "source": [
    "### 6.1 - Données de test"
   ]
  },
  {
   "cell_type": "markdown",
   "metadata": {},
   "source": [
    "Observer le contenu du fichier ``./tests/test_stories.yml``"
   ]
  },
  {
   "cell_type": "raw",
   "metadata": {},
   "source": [
    "#### This file contains tests to evaluate that your bot behaves as expected.\n",
    "#### If you want to learn more, please see the docs: https://rasa.com/docs/rasa/testing-your-assistant\n",
    "\n",
    "stories:\n",
    "- story: happy path 1\n",
    "  steps:\n",
    "  - user: |\n",
    "      hello there!\n",
    "    intent: greet\n",
    "  - action: utter_greet\n",
    "  - user: |\n",
    "      amazing\n",
    "    intent: mood_great\n",
    "  - action: utter_happy\n",
    "\n",
    "- story: happy path 2\n",
    "  steps:\n",
    "  - user: |\n",
    "      hello there!\n",
    "    intent: greet\n",
    "  - action: utter_greet\n",
    "  - user: |\n",
    "      amazing\n",
    "    intent: mood_great\n",
    "  - action: utter_happy\n",
    "  - user: |\n",
    "      bye-bye!\n",
    "    intent: goodbye\n",
    "  - action: utter_goodbye\n",
    "\n",
    "- story: sad path 1\n",
    "  steps:\n",
    "  - user: |\n",
    "      hello\n",
    "    intent: greet\n",
    "  - action: utter_greet\n",
    "  - user: |\n",
    "      not good\n",
    "    intent: mood_unhappy\n",
    "  - action: utter_cheer_up\n",
    "  - action: utter_did_that_help\n",
    "  - user: |\n",
    "      yes\n",
    "    intent: affirm\n",
    "  - action: utter_happy\n",
    "\n",
    "- story: sad path 2\n",
    "  steps:\n",
    "  - user: |\n",
    "      hello\n",
    "    intent: greet\n",
    "  - action: utter_greet\n",
    "  - user: |\n",
    "      not good\n",
    "    intent: mood_unhappy\n",
    "  - action: utter_cheer_up\n",
    "  - action: utter_did_that_help\n",
    "  - user: |\n",
    "      not really\n",
    "    intent: deny\n",
    "  - action: utter_goodbye\n",
    "\n",
    "- story: sad path 3\n",
    "  steps:\n",
    "  - user: |\n",
    "      hi\n",
    "    intent: greet\n",
    "  - action: utter_greet\n",
    "  - user: |\n",
    "      very terrible\n",
    "    intent: mood_unhappy\n",
    "  - action: utter_cheer_up\n",
    "  - action: utter_did_that_help\n",
    "  - user: |\n",
    "      no\n",
    "    intent: deny\n",
    "  - action: utter_goodbye\n",
    "\n",
    "- story: say goodbye\n",
    "  steps:\n",
    "  - user: |\n",
    "      bye-bye!\n",
    "    intent: goodbye\n",
    "  - action: utter_goodbye\n",
    "\n",
    "- story: bot challenge\n",
    "  steps:\n",
    "  - user: |\n",
    "      are you a bot?\n",
    "    intent: bot_challenge\n",
    "  - action: utter_iamabot\n"
   ]
  },
  {
   "cell_type": "markdown",
   "metadata": {},
   "source": [
    "#### Comment interprétez-vous le contenu de ce fichier ? Combien y-at-il de story de test ? Combien y-a-t'il de tour de parole utilisateur ? Combien y-a-t'il d'actions ?"
   ]
  },
  {
   "cell_type": "markdown",
   "metadata": {},
   "source": [
    "Ce fichier contient plusieurs scénarios de test permettant d'évaluer le comportement du chatbot. Chaque *story* représente une séquence d'interactions entre l'utilisateur et le système, visant à tester divers cas d'utilisation. Il y a sept stories de test : \"happy path 1\", \"happy path 2\", \"sad path 1\", \"sad path 2\", \"sad path 3\", \"say goodbye\" et \"bot challenge\". L'utilisateur a 16 tours de parole, et on peut dénombrer 19 actions (reconnaissables au mot-clé ``action``)."
   ]
  },
  {
   "cell_type": "markdown",
   "metadata": {},
   "source": [
    "### 6.2 - Résultats de l'évaluation"
   ]
  },
  {
   "cell_type": "markdown",
   "metadata": {},
   "source": [
    "Depuis le répertoire CHATBOT_V1_VOTRE_NOM exécutez la commande : ``rasa test``"
   ]
  },
  {
   "cell_type": "markdown",
   "metadata": {},
   "source": [
    "#### Copier coller la trace de cette exécution"
   ]
  },
  {
   "cell_type": "raw",
   "metadata": {},
   "source": [
    "(env_rasa2.8) baptister@LAPTOP-MHK00D58:~/CHATBOT_RAMONDA_V0$ rasa test\n",
    "2023-12-06 14:45:31 INFO     rasa.model  - Loading model models/20231206-142516.tar.gz...\n",
    "2023-12-06 14:45:31.433283: E tensorflow/stream_executor/cuda/cuda_gpu_executor.cc:968] could not open file to read NUMA node: /sys/bus/pci/devices/0000:01:00.0/numa_node\n",
    "Your kernel may have been built without NUMA support.\n",
    "2023-12-06 14:45:42 WARNING  rasa.shared.utils.common  - The UnexpecTED Intent Policy is currently experimental and might change or be removed in the future 🔬 Please share your feedback on it in the forum (https://forum.rasa.com) to help us make this feature ready for production.\n",
    "/home/baptister/miniconda3/envs/env_rasa2.8/lib/python3.7/site-packages/rasa/shared/utils/io.py:97: UserWarning: the value of 'evaluate_every_number_of_epochs' is greater than the value of 'epochs'. No evaluation will occur.\n",
    "2023-12-06 14:45:46 INFO     rasa.shared.utils.validation  - The 'version' key is missing in the training data file /home/baptister/CHATBOT_RAMONDA_V0/tests/test_stories.yml. Rasa Open Source will read the file as a version '2.0' file. See https://rasa.com/docs/rasa/training-data-format.\n",
    "Processed story blocks: 100%|█████████████████████████████████████████████████████████████████████████████████| 7/7 [00:00<00:00, 3761.23it/s, # trackers=1]\n",
    "2023-12-06 14:45:46 INFO     rasa.core.test  - Evaluating 7 stories\n",
    "Progress:\n",
    "100%|█████████████████████████████████████████████████████████████████████████████████████████████████████████████████████████| 7/7 [00:00<00:00, 11.65it/s]\n",
    "2023-12-06 14:45:47 INFO     rasa.core.test  - Finished collecting predictions.\n",
    "2023-12-06 14:45:47 INFO     rasa.core.test  - Evaluation Results on END-TO-END level:\n",
    "2023-12-06 14:45:47 INFO     rasa.core.test  -  Correct:          7 / 7\n",
    "2023-12-06 14:45:47 INFO     rasa.core.test  -  Accuracy:         1.000\n",
    "2023-12-06 14:45:47 INFO     rasa.core.test  - Stories report saved to results/story_report.json.\n",
    "2023-12-06 14:45:47 INFO     rasa.nlu.test  - Evaluation for entity extractor: TEDPolicy\n",
    "2023-12-06 14:45:47 WARNING  rasa.model_testing  - No labels to evaluate. Skip evaluation.\n",
    "2023-12-06 14:45:47 INFO     rasa.nlu.test  - Classification report saved to results/TEDPolicy_report.json.\n",
    "2023-12-06 14:45:47 INFO     rasa.nlu.test  - Every entity was predicted correctly by the model.\n",
    "/home/baptister/miniconda3/envs/env_rasa2.8/lib/python3.7/site-packages/rasa/utils/plotting.py:109: UserWarning: Attempting to set identical left == right == -0.5 results in singular transformations; automatically expanding.\n",
    "  norm=LogNorm(vmin=zmin, vmax=zmax),\n",
    "/home/baptister/miniconda3/envs/env_rasa2.8/lib/python3.7/site-packages/rasa/utils/plotting.py:109: UserWarning: Attempting to set identical bottom == top == -0.5 results in singular transformations; automatically expanding.\n",
    "  norm=LogNorm(vmin=zmin, vmax=zmax),\n",
    "2023-12-06 14:45:47 INFO     rasa.utils.plotting  - Confusion matrix, without normalization:\n",
    "[]\n",
    "2023-12-06 14:45:50 INFO     rasa.core.test  - Evaluation Results on ACTION level:\n",
    "2023-12-06 14:45:50 INFO     rasa.core.test  -  Correct:          35 / 35\n",
    "2023-12-06 14:45:50 INFO     rasa.core.test  -  F1-Score:         1.000\n",
    "2023-12-06 14:45:50 INFO     rasa.core.test  -  Precision:        1.000\n",
    "2023-12-06 14:45:50 INFO     rasa.core.test  -  Accuracy:         1.000\n",
    "2023-12-06 14:45:50 INFO     rasa.core.test  -  In-data fraction: 1\n",
    "2023-12-06 14:45:50 INFO     rasa.utils.plotting  - Confusion matrix, without normalization:\n",
    "[[16  0  0  0  0  0  0]\n",
    " [ 0  3  0  0  0  0  0]\n",
    " [ 0  0  3  0  0  0  0]\n",
    " [ 0  0  0  4  0  0  0]\n",
    " [ 0  0  0  0  5  0  0]\n",
    " [ 0  0  0  0  0  3  0]\n",
    " [ 0  0  0  0  0  0  1]]\n",
    "Failed stories written to 'results/failed_test_stories.yml'\n",
    "Stories with prediction warnings written to 'results/stories_with_warnings.yml'\n",
    "2023-12-06 14:45:51 INFO     rasa.model  - Loading model models/20231206-142516.tar.gz...\n",
    "2023-12-06 14:45:55 INFO     rasa.nlu.test  - Running model for predictions:\n",
    "100%|██████████████████████████████████████████████████████████████████████████████████████████████████████████████████████| 69/69 [00:00<00:00, 182.22it/s]\n",
    "2023-12-06 14:45:55 INFO     rasa.nlu.test  - Intent evaluation results:\n",
    "2023-12-06 14:45:55 INFO     rasa.nlu.test  - Intent Evaluation: Only considering those 69 examples that have a defined intent out of 69 examples.\n",
    "2023-12-06 14:45:56 INFO     rasa.nlu.test  - Classification report saved to results/intent_report.json.\n",
    "2023-12-06 14:45:56 INFO     rasa.nlu.test  - Incorrect intent predictions saved to results/intent_errors.json.\n",
    "2023-12-06 14:45:56 INFO     rasa.utils.plotting  - Confusion matrix, without normalization:\n",
    "[[ 6  0  0  0  0  0  0]\n",
    " [ 0  4  0  0  0  0  0]\n",
    " [ 0  0  7  0  0  0  0]\n",
    " [ 0  0  0 10  1  0  0]\n",
    " [ 0  0  0  0 13  0  0]\n",
    " [ 0  0  0  0  0 14  0]\n",
    " [ 0  0  0  0  0  0 14]]"
   ]
  },
  {
   "cell_type": "markdown",
   "metadata": {},
   "source": [
    "#### Comment interprétez vous cette trace ? Quels liens pouvez-vous faire avec le contenu du fichier de test ? Quelles sont les différentes étapes du test ?"
   ]
  },
  {
   "cell_type": "markdown",
   "metadata": {},
   "source": [
    "Globalement, les résultats suggèrent une performance très solide du modèle sur les scénarios de test fournis, puisqu'on obtient une précision de 100% et que tous les tests ont été validés. On retrouve bien les sept stories présentes dans le fichier de test, et le comportement du système (intents) semble être aussi en adéquation avec celui défini dans le fichier. Les différentes étapes du test sont :\n",
    "\n",
    "    1) Chargement du modèle\n",
    "    2) Evaluation des stories du fichier de test (score)\n",
    "    3) Evaluation des actions (score et matrice de confusion)\n",
    "    4) Evaluations des intents (score et matrice de confusion)\n",
    "    "
   ]
  },
  {
   "cell_type": "markdown",
   "metadata": {},
   "source": [
    "### 6.3- Analyse des résultats d'évaluation"
   ]
  },
  {
   "cell_type": "markdown",
   "metadata": {},
   "source": [
    "Consultez le répertoire ./results"
   ]
  },
  {
   "cell_type": "markdown",
   "metadata": {},
   "source": [
    "#### 6.3.1- Evaluation des Intents - A"
   ]
  },
  {
   "cell_type": "markdown",
   "metadata": {},
   "source": [
    "Ouvrir les fichiers intent_confusion_matrix.png et intent_histogram.png\n",
    "\n",
    "#### A quoi correspondent ces images ? "
   ]
  },
  {
   "cell_type": "markdown",
   "metadata": {},
   "source": [
    "Ces images correspondent à la matrice de confusion et à l'histogramme résultant de l'évaluation des intents lors du test précédent. La matrice de confusion compare les intents attendues (définies dans le fichier de test) aux intents du chatbot récupérées lors du lancement du processus de test. On peut d'ailleurs voir que l'on a une erreur, puisque l'on a une intent *goodbye* qui a été considérée comme un *greet*. L'histogramme représente quant à lui le taux de confiance du modèle sur les tests effectués."
   ]
  },
  {
   "cell_type": "markdown",
   "metadata": {},
   "source": [
    "Insérez-les dans la cellule markdown ci-dessous si vous le pouvez avec ``<img src=\"intent_confusion_matrix.png\" style=\"height:600px\"/>`` ou ``![intent_confusion_matrix.png(attachment:intent_confusion_matrix.png)``\n",
    "\n",
    "##### !! Attention les images doivent être au même niveau que le notebook pour être affichées dans celui-ci. Faire une copie de l'image au bon endroit si besoin. !! "
   ]
  },
  {
   "cell_type": "markdown",
   "metadata": {},
   "source": [
    "<img src=\"intent_confusion_matrix.png\" style=\"height:600px\"/>"
   ]
  },
  {
   "cell_type": "markdown",
   "metadata": {},
   "source": [
    "<img src=\"intent_histogram.png\" style=\"height:600px\"/>"
   ]
  },
  {
   "cell_type": "markdown",
   "metadata": {},
   "source": [
    "#### 6.3.2- Evaluation des Intents - B"
   ]
  },
  {
   "cell_type": "markdown",
   "metadata": {},
   "source": [
    "Etudier le contenu des fichiers ``intent_errors.json`` et ``intent_report.json``\n",
    "Remplacer par le contenu réel si différent du code ci-après. "
   ]
  },
  {
   "cell_type": "raw",
   "metadata": {},
   "source": [
    "[\n",
    "  {\n",
    "    \"text\": \"good afternoon\",\n",
    "    \"intent\": \"goodbye\",\n",
    "    \"intent_prediction\": {\n",
    "      \"name\": \"greet\",\n",
    "      \"confidence\": 0.7256622910499573\n",
    "    }\n",
    "  }\n",
    "]"
   ]
  },
  {
   "cell_type": "raw",
   "metadata": {},
   "source": [
    "{\n",
    "  \"goodbye\": {\n",
    "    \"precision\": 1.0,\n",
    "    \"recall\": 0.9090909090909091,\n",
    "    \"f1-score\": 0.9523809523809523,\n",
    "    \"support\": 11,\n",
    "    \"confused_with\": {\n",
    "      \"greet\": 1\n",
    "    }\n",
    "  },\n",
    "  \"affirm\": {\n",
    "    \"precision\": 1.0,\n",
    "    \"recall\": 1.0,\n",
    "    \"f1-score\": 1.0,\n",
    "    \"support\": 6,\n",
    "    \"confused_with\": {}\n",
    "  },\n",
    "  \"deny\": {\n",
    "    \"precision\": 1.0,\n",
    "    \"recall\": 1.0,\n",
    "    \"f1-score\": 1.0,\n",
    "    \"support\": 7,\n",
    "    \"confused_with\": {}\n",
    "  },\n",
    "  \"mood_unhappy\": {\n",
    "    \"precision\": 1.0,\n",
    "    \"recall\": 1.0,\n",
    "    \"f1-score\": 1.0,\n",
    "    \"support\": 14,\n",
    "    \"confused_with\": {}\n",
    "  },\n",
    "  \"bot_challenge\": {\n",
    "    \"precision\": 1.0,\n",
    "    \"recall\": 1.0,\n",
    "    \"f1-score\": 1.0,\n",
    "    \"support\": 4,\n",
    "    \"confused_with\": {}\n",
    "  },\n",
    "  \"greet\": {\n",
    "    \"precision\": 0.9285714285714286,\n",
    "    \"recall\": 1.0,\n",
    "    \"f1-score\": 0.962962962962963,\n",
    "    \"support\": 13,\n",
    "    \"confused_with\": {}\n",
    "  },\n",
    "  \"mood_great\": {\n",
    "    \"precision\": 1.0,\n",
    "    \"recall\": 1.0,\n",
    "    \"f1-score\": 1.0,\n",
    "    \"support\": 14,\n",
    "    \"confused_with\": {}\n",
    "  },\n",
    "  \"accuracy\": 0.9855072463768116,\n",
    "  \"macro avg\": {\n",
    "    \"precision\": 0.9897959183673469,\n",
    "    \"recall\": 0.987012987012987,\n",
    "    \"f1-score\": 0.9879062736205594,\n",
    "    \"support\": 69\n",
    "  },\n",
    "  \"weighted avg\": {\n",
    "    \"precision\": 0.9865424430641822,\n",
    "    \"recall\": 0.9855072463768116,\n",
    "    \"f1-score\": 0.9854305651407099,\n",
    "    \"support\": 69\n",
    "  }\n",
    "}"
   ]
  },
  {
   "cell_type": "markdown",
   "metadata": {},
   "source": [
    "#### A quoi correspondent-il ? Quelle informations peut-on en déduire ?  Vous pouvez consulter internet pour comprendre le rôle des métriques utilisées en complément du cours 4 - EVALUATION, par exemple : \n",
    "\n",
    "https://towardsdatascience.com/multi-class-metrics-made-simple-part-ii-the-f1-score-ebe8b2c2ca1"
   ]
  },
  {
   "cell_type": "markdown",
   "metadata": {},
   "source": [
    "Ces fichiers représentent le compte-rendu au format JSON de l'évaluation des intents lors du test précédent. Le premier fichier, ``intent_errors.json``, répertorie les erreurs commises sur la détection des intentions. Ici on retrouve bien l'erreur détectée sur la matrice de confusion : *good afternoon* a été détecté comme un *greet* alors que c'était un *goodbye*. On notera tout de même que le mot *good afternoon* est défini A LA FOIS dans *goodbye* et *greet*, ce qui peut soulever un questionnement. Le deuxième fichier, ``intent_report.json``, récapitule pour chaque intent sa précision, son recall, son f1-score et son support, avant de donner une moyenne de toutes les intents. Il est aussi précisé si l'intent a été confondue avec une autre en cas d'erreur."
   ]
  },
  {
   "cell_type": "markdown",
   "metadata": {},
   "source": [
    "#### 6.3.3- Evaluation des stories -A"
   ]
  },
  {
   "cell_type": "markdown",
   "metadata": {},
   "source": [
    "#### Copier-coller le contenu du fichier ``failed_test_stories.yml`` Que concluez-vous ? "
   ]
  },
  {
   "cell_type": "raw",
   "metadata": {},
   "source": [
    "# None of the test stories failed - all good!"
   ]
  },
  {
   "cell_type": "markdown",
   "metadata": {},
   "source": [
    "Le fichier est vide, ce qui est logique puisque, comme vu précédemment, toutes les stories définies dans le fichier ``test_stories.yml`` ont passé le test."
   ]
  },
  {
   "cell_type": "markdown",
   "metadata": {},
   "source": [
    "#### 6.3.4- Evaluation des stories -B"
   ]
  },
  {
   "cell_type": "markdown",
   "metadata": {},
   "source": [
    "Etudier le contenu du fichier ``story_report.json``"
   ]
  },
  {
   "cell_type": "raw",
   "metadata": {},
   "source": [
    "{\n",
    "  \"goodbye\": {\n",
    "    \"precision\": 1.0,\n",
    "    \"recall\": 1.0,\n",
    "    \"f1-score\": 1.0,\n",
    "    \"support\": 2\n",
    "  },\n",
    "  \"greet\": {\n",
    "    \"precision\": 1.0,\n",
    "    \"recall\": 1.0,\n",
    "    \"f1-score\": 1.0,\n",
    "    \"support\": 5\n",
    "  },\n",
    "  \"utter_did_that_help\": {\n",
    "    \"precision\": 1.0,\n",
    "    \"recall\": 1.0,\n",
    "    \"f1-score\": 1.0,\n",
    "    \"support\": 3\n",
    "  },\n",
    "  \"utter_iamabot\": {\n",
    "    \"precision\": 1.0,\n",
    "    \"recall\": 1.0,\n",
    "    \"f1-score\": 1.0,\n",
    "    \"support\": 1\n",
    "  },\n",
    "  \"utter_cheer_up\": {\n",
    "    \"precision\": 1.0,\n",
    "    \"recall\": 1.0,\n",
    "    \"f1-score\": 1.0,\n",
    "    \"support\": 3\n",
    "  },\n",
    "  \"utter_greet\": {\n",
    "    \"precision\": 1.0,\n",
    "    \"recall\": 1.0,\n",
    "    \"f1-score\": 1.0,\n",
    "    \"support\": 5\n",
    "  },\n",
    "  \"utter_happy\": {\n",
    "    \"precision\": 1.0,\n",
    "    \"recall\": 1.0,\n",
    "    \"f1-score\": 1.0,\n",
    "    \"support\": 3\n",
    "  },\n",
    "  \"mood_unhappy\": {\n",
    "    \"precision\": 1.0,\n",
    "    \"recall\": 1.0,\n",
    "    \"f1-score\": 1.0,\n",
    "    \"support\": 3\n",
    "  },\n",
    "  \"affirm\": {\n",
    "    \"precision\": 1.0,\n",
    "    \"recall\": 1.0,\n",
    "    \"f1-score\": 1.0,\n",
    "    \"support\": 1\n",
    "  },\n",
    "  \"deny\": {\n",
    "    \"precision\": 1.0,\n",
    "    \"recall\": 1.0,\n",
    "    \"f1-score\": 1.0,\n",
    "    \"support\": 2\n",
    "  },\n",
    "  \"bot_challenge\": {\n",
    "    \"precision\": 1.0,\n",
    "    \"recall\": 1.0,\n",
    "    \"f1-score\": 1.0,\n",
    "    \"support\": 1\n",
    "  },\n",
    "  \"utter_goodbye\": {\n",
    "    \"precision\": 1.0,\n",
    "    \"recall\": 1.0,\n",
    "    \"f1-score\": 1.0,\n",
    "    \"support\": 4\n",
    "  },\n",
    "  \"mood_great\": {\n",
    "    \"precision\": 1.0,\n",
    "    \"recall\": 1.0,\n",
    "    \"f1-score\": 1.0,\n",
    "    \"support\": 2\n",
    "  },\n",
    "  \"action_listen\": {\n",
    "    \"precision\": 1.0,\n",
    "    \"recall\": 1.0,\n",
    "    \"f1-score\": 1.0,\n",
    "    \"support\": 16\n",
    "  },\n",
    "  \"accuracy\": 1.0,\n",
    "  \"macro avg\": {\n",
    "    \"precision\": 1.0,\n",
    "    \"recall\": 1.0,\n",
    "    \"f1-score\": 1.0,\n",
    "    \"support\": 51\n",
    "  },\n",
    "  \"weighted avg\": {\n",
    "    \"precision\": 1.0,\n",
    "    \"recall\": 1.0,\n",
    "    \"f1-score\": 1.0,\n",
    "    \"support\": 51\n",
    "  },\n",
    "  \"conversation_accuracy\": {\n",
    "    \"accuracy\": 1.0,\n",
    "    \"correct\": 7,\n",
    "    \"with_warnings\": 0,\n",
    "    \"total\": 7\n",
    "  }\n",
    "}"
   ]
  },
  {
   "cell_type": "markdown",
   "metadata": {},
   "source": [
    "#### A quoi correspond ce fichier ? "
   ]
  },
  {
   "cell_type": "markdown",
   "metadata": {},
   "source": [
    "Ce fichier récapitule pour chaque intent et chaque action présentes dans les stories, leur précision, leur recall, leur f1-score et leur support, avant de donner une moyenne globale."
   ]
  },
  {
   "cell_type": "markdown",
   "metadata": {},
   "source": [
    "#### 6.3.5- Evaluation des Intents - C"
   ]
  },
  {
   "cell_type": "markdown",
   "metadata": {},
   "source": [
    "Ouvrir le fichier story_confusion_matrix.png \n",
    "\n",
    "#### A quoi correspond cette image ? "
   ]
  },
  {
   "cell_type": "markdown",
   "metadata": {},
   "source": [
    "Cette image correspond à la matrice de confusion des actions. Elle met en comparaison les actions attendues à celles de la \"vérité terrain\" définie par le fichier de configuration des stories de test. Ici on peut voir que chaque action correspond parfaitement à l'action attendue (tout à zéro sauf la diagonale)."
   ]
  },
  {
   "cell_type": "markdown",
   "metadata": {},
   "source": [
    "Insérez-les dans la cellule markdown ci-dessous si vous le pouvez avec ``<img src=\"intent_confusion_matrix.png\" style=\"height:600px\"/>`` ou ``![intent_confusion_matrix.png(attachment:intent_confusion_matrix.png)``\n",
    "\n",
    "##### !! Attention les images doivent être au même niveau que le notebook pour être affichées dans celui-ci. Faire une copie de l'image au bon endroit si besoin. !!"
   ]
  },
  {
   "cell_type": "markdown",
   "metadata": {},
   "source": [
    "<img src=\"story_confusion_matrix.png\" style=\"height:600px\"/>"
   ]
  },
  {
   "cell_type": "markdown",
   "metadata": {},
   "source": [
    "# PARTIE 3 : DEVELOPPEMENT DU CHATBOT"
   ]
  },
  {
   "cell_type": "markdown",
   "metadata": {},
   "source": [
    "## 7- Lancement du chatbot en mode commande"
   ]
  },
  {
   "cell_type": "markdown",
   "metadata": {},
   "source": [
    "### 7.1- Depuis le répertoire où se trouve le code du chatbot, lancer la commande : ``rasa shell`` \n"
   ]
  },
  {
   "cell_type": "markdown",
   "metadata": {},
   "source": [
    "Vous avez le prompt suivant : \n",
    "\n",
    "    Bot loaded. Type a message and press enter (use ‘/stop’ to exit) :\n",
    "    Your input --> … \n",
    "\n",
    "### 7.2- Essayer différents cas, copier-coller plusieurs exemples (pertinents) de dialogue et commentez leur déroulement. \n",
    "\n",
    "Ajoutez autant de cellule que d'exemples. Appuyez-vous sur ce que vous avez retenu des questions précédentes. L’objectif est de tester les capacités de ce mini-chatbot et de comprendre ce qui se passe.  "
   ]
  },
  {
   "cell_type": "markdown",
   "metadata": {},
   "source": [
    "##### EXEMPLE DE DIALOGUE 1 et COMMENTAIRE ASSOCIÉ"
   ]
  },
  {
   "cell_type": "raw",
   "metadata": {},
   "source": [
    "Your input ->  Hello\n",
    "Hey! How are you?\n",
    "Your input ->  good\n",
    "Great, carry on!\n",
    "Your input ->  thanks bye\n",
    "Bye"
   ]
  },
  {
   "cell_type": "markdown",
   "metadata": {},
   "source": [
    "Ici on teste le scénario de base : *saluer* > *demander comment ça va* > *quitter*. On note que le chatbot a un comportement normal, et que chaque réponse est cohérente avec le prompt entré."
   ]
  },
  {
   "cell_type": "markdown",
   "metadata": {},
   "source": [
    "##### EXEMPLE DE DIALOGUE 2 et COMMENTAIRE ASSOCIÉ"
   ]
  },
  {
   "cell_type": "markdown",
   "metadata": {},
   "source": [
    "Your input ->  Hello !\n",
    "Hey! How are you?\n",
    "Your input ->  Are you a robot ?\n",
    "I am a bot, powered by Rasa.\n",
    "Your input ->  No you're not\n",
    "Bye"
   ]
  },
  {
   "cell_type": "markdown",
   "metadata": {},
   "source": [
    "Ici on teste le scénario qui vise a questionner la nature du robot (intent *bot_challenged*). On note que le chatbot a un comportement normal mais que lors de la réponse il ne réagit pas et finit la conversation, cela peut alors présager des limites du chatbot (*voir dialogue suivant*)."
   ]
  },
  {
   "cell_type": "markdown",
   "metadata": {},
   "source": [
    "##### EXEMPLE DE DIALOGUE 3 et COMMENTAIRE ASSOCIÉ"
   ]
  },
  {
   "cell_type": "raw",
   "metadata": {},
   "source": [
    "Your input ->  Hello !\n",
    "Hey! How are you?\n",
    "Your input ->  Not really good\n",
    "Bye\n",
    "Your input ->  And you ?\n",
    "Bye\n",
    "Your input ->  My name is Baptiste\n",
    "Here is something to cheer you up:\n",
    "Image: https://i.imgur.com/nGF1K8f.jpg\n",
    "Did that help you?"
   ]
  },
  {
   "cell_type": "markdown",
   "metadata": {},
   "source": [
    "Ici on teste le chatbot en donnant des réponses qui ne sont pas prévues par le modèle, on se rend alors compte des limites de celui-ci puisqu'il a, soit toujours la même réponse \"Bye\", soit un message pré-configuré lors de la réception de message qu'il ne comprend pas."
   ]
  },
  {
   "cell_type": "markdown",
   "metadata": {},
   "source": [
    "## 8- Lancement du chatbot en mode interactif"
   ]
  },
  {
   "cell_type": "markdown",
   "metadata": {},
   "source": [
    "### 8.1- Depuis le répertoire où se trouve le code du chatbot, lancer la commande : ``rasa x``"
   ]
  },
  {
   "cell_type": "markdown",
   "metadata": {},
   "source": [
    "Ouverture du navigateur et de l’application interactive permettant d’enrichir le chatbot.\n",
    "Sélectionner l’onglet en haut à gauche : Talk to your bot (Interactive Learning), assurez-vous qu'un modèle a été sélectionné et tapez votre texte dans la zone du bas : \"Start typing a message\"\n",
    "\n",
    "### 8.2- Essayer différents cas de dialogue (similaires à ceux de la question précédente), copier-coller la partie story associée dans les zones de texte, une zone par story. Ajouter des cellules au besoin."
   ]
  },
  {
   "cell_type": "markdown",
   "metadata": {},
   "source": [
    "##### Story 1 et Commentaire"
   ]
  },
  {
   "cell_type": "raw",
   "metadata": {},
   "source": [
    "version: \"2.0\"\n",
    "\n",
    "stories:\n",
    "\n",
    "- story: Story from Conversation ID 5f894af37c5f4b119420bf4198000cd9\n",
    "\n",
    "  steps:\n",
    "\n",
    "  - intent: greet\n",
    "\n",
    "  - action: utter_greet\n",
    "\n",
    "  - intent: mood_great\n",
    "\n",
    "  - action: utter_happy\n",
    "\n",
    "  - intent: goodbye\n",
    "\n",
    "  - action: utter_goodbye"
   ]
  },
  {
   "cell_type": "markdown",
   "metadata": {},
   "source": [
    "Ici on teste le scénario de base : *saluer* > *demander comment ça va* > *quitter*. On note que le chatbot a un comportement normal, et que chaque réponse est cohérente avec le prompt entré. On retrouve les mêmes réponses que dans le chatbot shell, et la trace de la story montre que toutes les intents et actions associées ont bien été reconnues."
   ]
  },
  {
   "cell_type": "markdown",
   "metadata": {},
   "source": [
    "##### Story 2 et Commentaire"
   ]
  },
  {
   "cell_type": "raw",
   "metadata": {},
   "source": [
    "version: \"2.0\"\n",
    "\n",
    "stories:\n",
    "\n",
    "- story: Story from Conversation ID 16c9b2646791411bb62265feaa3bacbd\n",
    "\n",
    "  steps:\n",
    "\n",
    "  - intent: greet\n",
    "\n",
    "  - action: utter_greet\n",
    "\n",
    "  - intent: bot_challenge\n",
    "\n",
    "  - action: utter_iamabot\n",
    "\n",
    "  - intent: deny\n",
    "\n",
    "  - action: utter_goodbye"
   ]
  },
  {
   "cell_type": "markdown",
   "metadata": {},
   "source": [
    "Ici on teste le scénario qui vise a questionner la nature du robot (intent *bot_challenged*). On note que le chatbot a un comportement normal mais que lors de la réponse finale, il décide après avoir identifé l'intent *deny* de terminer la conversation."
   ]
  },
  {
   "cell_type": "markdown",
   "metadata": {},
   "source": [
    "##### Story 3 et Commentaire"
   ]
  },
  {
   "cell_type": "raw",
   "metadata": {},
   "source": [
    "version: \"2.0\"\n",
    "\n",
    "stories:\n",
    "\n",
    "- story: Story from Conversation ID 277cd24912fe4012a792b747abf30305\n",
    "\n",
    "  steps:\n",
    "\n",
    "  - intent: greet\n",
    "\n",
    "  - action: utter_greet\n",
    "\n",
    "  - intent: deny\n",
    "\n",
    "  - action: utter_goodbye\n",
    "\n",
    "  - intent: goodbye\n",
    "\n",
    "  - action: utter_goodbye\n",
    "\n",
    "  - intent: mood_unhappy\n",
    "\n",
    "  - action: utter_cheer_up\n",
    "\n",
    "  - action: utter_did_that_help"
   ]
  },
  {
   "cell_type": "markdown",
   "metadata": {},
   "source": [
    "Ici on teste le chatbot en donnant des réponses qui ne sont pas prévues par le modèle, on se rend alors compte des limites de celui-ci puisqu'il a, soit toujours la même réponse \"Bye\", soit un message pré-configuré lors de la réception de message qu'il ne comprend pas. On peut interpréter ces réponses comme étant une mauvaise compréhension du prompt d'entrée ou alors comme une réponse automatique à chaque prompt inconnu."
   ]
  },
  {
   "cell_type": "markdown",
   "metadata": {},
   "source": [
    "# PARTIE 4 : EVOLUTION DU CHATBOT"
   ]
  },
  {
   "cell_type": "markdown",
   "metadata": {},
   "source": [
    "## 9- Ajout de nouvelles INTENTS"
   ]
  },
  {
   "cell_type": "markdown",
   "metadata": {},
   "source": [
    "### 9.1- Essayer à nouveau un dialogue : \n",
    "    - en répondant 'Good', 'Fine thanks', 'not well'\n",
    "    - en ajoutant, à la fin, des énoncés utilisateurs du type  'Thanks' / 'Thank you' / 'Many thanks'"
   ]
  },
  {
   "cell_type": "markdown",
   "metadata": {},
   "source": [
    "#### Que se passe-t-il du point de vue \"intent\" ? Copier-Coller ci-après les \"story\" correspondantes et commenter. Que suggérez-vous de faire pour améliorer ? "
   ]
  },
  {
   "cell_type": "markdown",
   "metadata": {},
   "source": [
    "##### Story 1 et commentaire"
   ]
  },
  {
   "cell_type": "raw",
   "metadata": {},
   "source": [
    "version: \"2.0\"\n",
    "\n",
    "stories:\n",
    "\n",
    "- story: Story from Conversation ID 18457fd817e041d6b4ab81b8e16cefb4\n",
    "\n",
    "  steps:\n",
    "\n",
    "  - intent: greet\n",
    "\n",
    "  - action: utter_greet\n",
    "\n",
    "  - intent: affirm\n",
    "\n",
    "  - action: utter_happy\n",
    "\n",
    "  - intent: deny\n",
    "\n",
    "  - action: utter_goodbye"
   ]
  },
  {
   "cell_type": "markdown",
   "metadata": {},
   "source": [
    "Ici on se rend compte que lorsqu'on remercie le système après qu'il ait réagi à notre humeur, l'intent détectée est *deny*, la réaction du système n'est donc pas adaptée. Pour améliorer le système, on peut rajouter une intent nommée ``thank_you`` qui gère les cas où l'utilisateur remercie le système, puis ré-entraîner le système."
   ]
  },
  {
   "cell_type": "markdown",
   "metadata": {},
   "source": [
    "##### Story 2 et commentaire"
   ]
  },
  {
   "cell_type": "raw",
   "metadata": {},
   "source": [
    "version: \"2.0\"\n",
    "\n",
    "stories:\n",
    "\n",
    "- story: Story from Conversation ID a554a1f7fed2407e8e76f78e2ac4e60e\n",
    "\n",
    "  steps:\n",
    "\n",
    "  - intent: greet\n",
    "\n",
    "  - action: utter_greet\n",
    "\n",
    "  - intent: mood_unhappy\n",
    "\n",
    "  - action: utter_cheer_up\n",
    "\n",
    "  - action: utter_did_that_help\n",
    "\n",
    "  - intent: deny\n",
    "\n",
    "  - action: utter_goodbye"
   ]
  },
  {
   "cell_type": "markdown",
   "metadata": {},
   "source": [
    "Ici on se rend compte que lorsqu'on répond notre humeur au système avec ``not well``, il ne comprend pas et nous montre une image en 'dédommagement'. Idem qu'à la story précédente, lorsqu'on le remercie, l'intent détectée est *deny*, la réaction du système n'est donc pas adaptée. Pour améliorer le système, on peut rajouter une intent nommée ``thank_you`` qui gère les cas où l'utilisateur remercie le système, puis ré-entraîner le système."
   ]
  },
  {
   "cell_type": "markdown",
   "metadata": {},
   "source": [
    "### 9.2- Explorer les possibilités de rasa-x pour ajouter :\n",
    "    - une nouvelle intent 'thank_you',\n",
    "    - une réponse 'utter_welcome' et au moins deux réponses possibles : 'you are welcome', 'you are very welcome'... \n",
    "    - une règle prévoyant ce type d’échange à la fin de la conversation : \n",
    "        User : 'thank you' / 'thanks' / 'many thanks' \n",
    "        Chatbot : 'you are welcome' / 'you are very welcome' "
   ]
  },
  {
   "cell_type": "markdown",
   "metadata": {},
   "source": [
    "#### Copier-coller ici une story obtenue après nouveau dialogue intégrant les remerciements et expliquer quelles seront selon vous les étapes d'améliorations suivantes. "
   ]
  },
  {
   "cell_type": "markdown",
   "metadata": {},
   "source": [
    "( Le training du modèle a été effectué directement après avoir modifié le modèle > Voir la story de la question 9.3 )"
   ]
  },
  {
   "cell_type": "markdown",
   "metadata": {},
   "source": [
    "### 9.3- Est-ce que ces nouvelles informations ont bien été intégrées dans le déroulement des dialogues exécutés par la suite ? \n",
    "\n",
    "#### Quelles sont les 'intents' associées à l'énoncé 'Thank you' ? Commentez ci-dessous. Selon vous, comment peut-on améliorer la situation ?"
   ]
  },
  {
   "cell_type": "markdown",
   "metadata": {},
   "source": [
    "( Le training du modèle a été effectué directement après avoir modifié le modèle > Voir la story de la question 9.3 )"
   ]
  },
  {
   "cell_type": "markdown",
   "metadata": {},
   "source": [
    "##### Story obtenue après nouveau dialogue intégrant les remerciements "
   ]
  },
  {
   "cell_type": "raw",
   "metadata": {},
   "source": [
    "version: \"2.0\"\n",
    "\n",
    "stories:\n",
    "\n",
    "- story: Story from Conversation ID 767766c0defc41ca98aea0bbd9dc4fda\n",
    "\n",
    "  steps:\n",
    "\n",
    "  - intent: greet\n",
    "\n",
    "  - action: utter_greet\n",
    "\n",
    "  - intent: mood_great\n",
    "\n",
    "  - action: utter_happy\n",
    "\n",
    "  - intent: thank_you\n",
    "\n",
    "  - action: utter_welcome\n",
    "\n",
    "  - intent: goodbye\n",
    "\n",
    "  - action: utter_goodbye"
   ]
  },
  {
   "cell_type": "markdown",
   "metadata": {},
   "source": [
    "On voit qu'après l'entraînement du nouveau modèle intégrant les modifications, le système prend bien en compte les remerciements et répond comme prévu avec un ``utter_welcome``."
   ]
  },
  {
   "cell_type": "markdown",
   "metadata": {},
   "source": [
    "## 10- Apprentissage et génération d’un nouveau modèle \n"
   ]
  },
  {
   "cell_type": "markdown",
   "metadata": {},
   "source": [
    "### 10.1- Explorer les fonctionnalités associées à la rubrique Training. "
   ]
  },
  {
   "cell_type": "markdown",
   "metadata": {},
   "source": [
    "#### Que constatez-vous ? Commenter."
   ]
  },
  {
   "cell_type": "markdown",
   "metadata": {},
   "source": [
    "Dans \"Training\", Rasa X permet à l'utilisateur de modifier/créer un modèle en permettant d'ajouter : \n",
    "- Une nouvelle phrase en l'associant à une intention\n",
    "- Une nouvelle intention\n",
    "- Une réponse du système (utter_X)\n",
    "- Une nouvelle story de test\n",
    "- Une nouvelle règle permettant de diriger le comportement du système en fonction de l'intention en entrée\n",
    "\n",
    "Cela permet d'améliorer / de modifier un modèle en ayant toutes les données au même endroit. C'est plus intuitif et simple que d'aller modifier à la main chaque fichier de configuration correspondant."
   ]
  },
  {
   "cell_type": "markdown",
   "metadata": {},
   "source": [
    "### 10.2- Après avoir fait le nécessaire dans chaque rubrique (NLU Training, Responses, Stories, Configuration, Domain, ...) procéder à l’apprentissage via l'interface "
   ]
  },
  {
   "cell_type": "markdown",
   "metadata": {},
   "source": [
    "#### Que se passe-t-il si vous allez voir dans la rubrique Models ? "
   ]
  },
  {
   "cell_type": "markdown",
   "metadata": {},
   "source": [
    "Le nouveau modèle qui vient d'être entraîné apparaît aux côtés des versions plus anciennes ou des autres modèles."
   ]
  },
  {
   "cell_type": "markdown",
   "metadata": {},
   "source": [
    "### 10.3- Sélectionner le bon modèle et recommencer les tests. "
   ]
  },
  {
   "cell_type": "markdown",
   "metadata": {},
   "source": [
    "#### Que constatez-vous ? Illustrer et commenter :"
   ]
  },
  {
   "cell_type": "markdown",
   "metadata": {},
   "source": [
    "( Le training du modèle a été effectué directement après avoir modifié le modèle > Voir la story de la question 9.3 )"
   ]
  },
  {
   "cell_type": "markdown",
   "metadata": {},
   "source": [
    "##### Exemples de stories et commentaires associés"
   ]
  },
  {
   "cell_type": "markdown",
   "metadata": {},
   "source": [
    "( Le training du modèle a été effectué directement après avoir modifié le modèle > Voir la story de la question 9.3 )"
   ]
  },
  {
   "cell_type": "markdown",
   "metadata": {},
   "source": [
    "## 11- Impact sur les données du chatbot"
   ]
  },
  {
   "cell_type": "markdown",
   "metadata": {},
   "source": [
    "Examiner le fichier\n",
    "\n",
    "    - data/nlu.yml\n",
    "    - data/stories.yml\n",
    "    - data/rules.yml\n",
    "    - domain.yml "
   ]
  },
  {
   "cell_type": "markdown",
   "metadata": {},
   "source": [
    "#### Que constatez vous dans chacun des cas ? Commentez. "
   ]
  },
  {
   "cell_type": "markdown",
   "metadata": {},
   "source": [
    "Dans chacun des cas, on remarque que les modifications apportées au modèle via Rasa X sont directement répercutées sur les fichiers correspondant. On retrouve donc bien la nouvelle intention, la nouvelle règle et les réponses du système créés dans les fichiers."
   ]
  },
  {
   "cell_type": "markdown",
   "metadata": {},
   "source": [
    "# PARTIE 5 : COMPREHENSION ou NLU - \n",
    "#### COMMENT CA MARCHE ? "
   ]
  },
  {
   "cell_type": "markdown",
   "metadata": {},
   "source": [
    "## 12- Utilisation de SpaCy et des modèles de langage"
   ]
  },
  {
   "cell_type": "markdown",
   "metadata": {},
   "source": [
    "Les opérations suivantes ont été faites dans l'environnement virtuel env_rasa2.8\n",
    "\n",
    "Installation de la libririe SpaCy pour les traitement NLU et modèles de langage\n",
    "``pip3 --use-feature=2020-resolver install rasa[spacy]``\n",
    "\n",
    "Téléchargement du modèle d'embedding anglais : https://spacy.io/models/en\n",
    "``python3 -m spacy download en_core_web_md``\n",
    "\n",
    "\n",
    "Téléchargement du modèle d'embedding anglais : https://spacy.io/models/fr\n",
    "``python3 -m spacy download fr_core_news_md``"
   ]
  },
  {
   "cell_type": "markdown",
   "metadata": {},
   "source": [
    "## 13- Consultez les site web respectif"
   ]
  },
  {
   "cell_type": "markdown",
   "metadata": {},
   "source": [
    "#### Expliquer ci-dessous quelles sont les principales carcatéristiques de ces modèles"
   ]
  },
  {
   "cell_type": "markdown",
   "metadata": {},
   "source": [
    "Le modèle en_core_web_md de spacy est un outil NLP efficace pour l'anglais, offrant un pipeline complet et des embeddings sémantiques. Le modèle fr_core_news_md est son équivalent pour le français, avec les mêmes fonctionnalités. Ces modèles de taille moyenne sont adaptés à diverses tâches telles que l'analyse de texte et la reconnaissance d'entités nommées dans leurs langues respectives."
   ]
  },
  {
   "cell_type": "markdown",
   "metadata": {},
   "source": [
    "## 14- Exécuter la séquence python suivante. "
   ]
  },
  {
   "cell_type": "markdown",
   "metadata": {},
   "source": [
    "``pprint`` permettra un affichage indenté du résultat de la partie compréhension (NLU)"
   ]
  },
  {
   "cell_type": "code",
   "execution_count": 1,
   "metadata": {},
   "outputs": [],
   "source": [
    "%matplotlib inline\n",
    "import logging, io, json, warnings\n",
    "logging.basicConfig(level=\"INFO\")\n",
    "warnings.filterwarnings('ignore')\n",
    "\n",
    "def pprint(o):\n",
    "    # small helper to make dict dumps a bit prettier\n",
    "    print(json.dumps(o, indent=2))"
   ]
  },
  {
   "cell_type": "code",
   "execution_count": 2,
   "metadata": {},
   "outputs": [
    {
     "data": {
      "text/plain": [
       "['credentials.yml',\n",
       " '.ipynb_checkpoints',\n",
       " 'actions',\n",
       " 'data',\n",
       " 'events.db',\n",
       " 'endpoints.yml',\n",
       " 'results',\n",
       " 'tests',\n",
       " 'domain.yml',\n",
       " 'models',\n",
       " 'config.yml',\n",
       " 'rasa.db',\n",
       " 'events.db-shm',\n",
       " 'events.db-wal',\n",
       " 'TP_RASA_2023.ipynb']"
      ]
     },
     "execution_count": 2,
     "metadata": {},
     "output_type": "execute_result"
    }
   ],
   "source": [
    "# Positionnez-vous dans le bon répertoire à l'aide du code python suivant\n",
    "import os\n",
    "\n",
    "PATH = '.'\n",
    "\n",
    "os.chdir(PATH)\n",
    "os.listdir()"
   ]
  },
  {
   "cell_type": "markdown",
   "metadata": {},
   "source": [
    "## 15- Exécuter la séquence python suivante."
   ]
  },
  {
   "cell_type": "markdown",
   "metadata": {},
   "source": [
    "<span style=\"color:red\"> BIEN VERIFIER QUE VOUS AVEZ LANCE JUPYTER NOTEBOOK DEPUIS L'ENVIRONNEMENT VIRTUEL OU RASA EST INSTALLE (env_rasa2.8) </span>\n",
    "\n",
    "Les modèles chargés peuvent être utilisés pour traiter les énoncés des utilisateurs "
   ]
  },
  {
   "cell_type": "code",
   "execution_count": 3,
   "metadata": {
    "scrolled": true
   },
   "outputs": [
    {
     "name": "stdout",
     "output_type": "stream",
     "text": [
      "rasa.nlu: 2.8.0 rasa.core: 2.8.0\n",
      "Loading spaCy language model...\n",
      "Bonjour chez vous! Le modèle français est chargé\n",
      "Hello world! The English model has ben loaded\n"
     ]
    }
   ],
   "source": [
    "import rasa.nlu\n",
    "import rasa.core\n",
    "import spacy\n",
    "\n",
    "print(\"rasa.nlu: {} rasa.core: {}\".format(rasa.nlu.__version__, rasa.core.__version__))\n",
    "print(\"Loading spaCy language model...\")\n",
    "#print(spacy.load('fr')(\"Bonjour chez vous! Le modèle français est chargé\"))  # si le lien existe\n",
    "print(spacy.load('fr_core_news_md')(\"Bonjour chez vous! Le modèle français est chargé\"))  \n",
    "#print(spacy.load('en')(\"Hello world! The English model has been loaded\"))    # si le lien existe\n",
    "print(spacy.load('en_core_web_md')(\"Hello world! The English model has ben loaded\"))"
   ]
  },
  {
   "cell_type": "markdown",
   "metadata": {},
   "source": [
    "## 16- Exécuter la séquence python suivante."
   ]
  },
  {
   "cell_type": "markdown",
   "metadata": {},
   "source": [
    "<span style=\"color:red\"> BIEN VERIFIER QUE VOUS AVEZ LANCE JUPYTER NOTEBOOK DEPUIS L'ENVIRONNEMENT VIRTUEL OU RASA EST INSTALLE (env_rasa2.8) </span>\n",
    "\n",
    "La partie nlu peut être utilisée dans du code python pour développer ses propres applications.\n",
    "\n",
    "#### Exécuter le code suivant. Il faut construire un interpréteur qui correspond à la partie pipeline"
   ]
  },
  {
   "cell_type": "code",
   "execution_count": 4,
   "metadata": {},
   "outputs": [
    {
     "name": "stderr",
     "output_type": "stream",
     "text": [
      "2023-12-19 09:51:29.894729: W tensorflow/stream_executor/platform/default/dso_loader.cc:59] Could not load dynamic library 'libcudart.so.10.1'; dlerror: libcudart.so.10.1: cannot open shared object file: No such file or directory\n",
      "2023-12-19 09:51:29.894792: I tensorflow/stream_executor/cuda/cudart_stub.cc:29] Ignore above cudart dlerror if you do not have a GPU set up on your machine.\n",
      "INFO:rasa.nlu.model:Starting to train component WhitespaceTokenizer\n",
      "INFO:rasa.nlu.model:Finished training component.\n",
      "INFO:rasa.nlu.model:Starting to train component RegexFeaturizer\n",
      "INFO:rasa.nlu.model:Finished training component.\n",
      "INFO:rasa.nlu.model:Starting to train component LexicalSyntacticFeaturizer\n",
      "INFO:rasa.nlu.model:Finished training component.\n",
      "INFO:rasa.nlu.model:Starting to train component CountVectorsFeaturizer\n"
     ]
    },
    {
     "name": "stdout",
     "output_type": "stream",
     "text": [
      "/home/baptister/CHATBOT_RAMONDA_V0\n",
      "['rules.yml', 'nlu.yml', 'stories.yml']\n"
     ]
    },
    {
     "name": "stderr",
     "output_type": "stream",
     "text": [
      "INFO:rasa.nlu.featurizers.sparse_featurizer.count_vectors_featurizer:83 vocabulary items were created for text attribute.\n",
      "INFO:rasa.nlu.model:Finished training component.\n",
      "INFO:rasa.nlu.model:Starting to train component CountVectorsFeaturizer\n",
      "INFO:rasa.nlu.featurizers.sparse_featurizer.count_vectors_featurizer:714 vocabulary items were created for text attribute.\n",
      "INFO:rasa.nlu.model:Finished training component.\n",
      "INFO:rasa.nlu.model:Starting to train component DIETClassifier\n",
      "2023-12-19 09:51:31.453062: I tensorflow/stream_executor/platform/default/dso_loader.cc:48] Successfully opened dynamic library libcuda.so.1\n",
      "2023-12-19 09:51:31.679711: E tensorflow/stream_executor/cuda/cuda_gpu_executor.cc:968] could not open file to read NUMA node: /sys/bus/pci/devices/0000:01:00.0/numa_node\n",
      "Your kernel may have been built without NUMA support.\n",
      "2023-12-19 09:51:31.679843: I tensorflow/core/common_runtime/gpu/gpu_device.cc:1716] Found device 0 with properties: \n",
      "pciBusID: 0000:01:00.0 name: NVIDIA GeForce RTX 3060 Laptop GPU computeCapability: 8.6\n",
      "coreClock: 1.425GHz coreCount: 30 deviceMemorySize: 6.00GiB deviceMemoryBandwidth: 312.97GiB/s\n",
      "2023-12-19 09:51:31.679970: W tensorflow/stream_executor/platform/default/dso_loader.cc:59] Could not load dynamic library 'libcudart.so.10.1'; dlerror: libcudart.so.10.1: cannot open shared object file: No such file or directory\n",
      "2023-12-19 09:51:31.680049: W tensorflow/stream_executor/platform/default/dso_loader.cc:59] Could not load dynamic library 'libcublas.so.10'; dlerror: libcublas.so.10: cannot open shared object file: No such file or directory\n",
      "2023-12-19 09:51:31.680101: W tensorflow/stream_executor/platform/default/dso_loader.cc:59] Could not load dynamic library 'libcufft.so.10'; dlerror: libcufft.so.10: cannot open shared object file: No such file or directory\n",
      "2023-12-19 09:51:31.680165: W tensorflow/stream_executor/platform/default/dso_loader.cc:59] Could not load dynamic library 'libcurand.so.10'; dlerror: libcurand.so.10: cannot open shared object file: No such file or directory\n",
      "2023-12-19 09:51:31.680207: W tensorflow/stream_executor/platform/default/dso_loader.cc:59] Could not load dynamic library 'libcusolver.so.10'; dlerror: libcusolver.so.10: cannot open shared object file: No such file or directory\n",
      "2023-12-19 09:51:31.680244: W tensorflow/stream_executor/platform/default/dso_loader.cc:59] Could not load dynamic library 'libcusparse.so.10'; dlerror: libcusparse.so.10: cannot open shared object file: No such file or directory\n",
      "2023-12-19 09:51:31.680281: W tensorflow/stream_executor/platform/default/dso_loader.cc:59] Could not load dynamic library 'libcudnn.so.7'; dlerror: libcudnn.so.7: cannot open shared object file: No such file or directory\n",
      "2023-12-19 09:51:31.680285: W tensorflow/core/common_runtime/gpu/gpu_device.cc:1753] Cannot dlopen some GPU libraries. Please make sure the missing libraries mentioned above are installed properly if you would like to use GPU. Follow the guide at https://www.tensorflow.org/install/gpu for how to download and setup the required libraries for your platform.\n",
      "Skipping registering GPU devices...\n",
      "2023-12-19 09:51:31.681177: I tensorflow/core/platform/cpu_feature_guard.cc:142] This TensorFlow binary is optimized with oneAPI Deep Neural Network Library (oneDNN)to use the following CPU instructions in performance-critical operations:  AVX2 FMA\n",
      "To enable them in other operations, rebuild TensorFlow with the appropriate compiler flags.\n",
      "2023-12-19 09:51:31.690214: I tensorflow/core/platform/profile_utils/cpu_utils.cc:104] CPU Frequency: 3293720000 Hz\n",
      "2023-12-19 09:51:31.693005: I tensorflow/compiler/xla/service/service.cc:168] XLA service 0xf0b980 initialized for platform Host (this does not guarantee that XLA will be used). Devices:\n",
      "2023-12-19 09:51:31.693029: I tensorflow/compiler/xla/service/service.cc:176]   StreamExecutor device (0): Host, Default Version\n",
      "2023-12-19 09:51:31.694537: I tensorflow/core/common_runtime/gpu/gpu_device.cc:1257] Device interconnect StreamExecutor with strength 1 edge matrix:\n",
      "2023-12-19 09:51:31.694550: I tensorflow/core/common_runtime/gpu/gpu_device.cc:1263]      \n",
      "Epochs: 100%|███████████████████████████████████████████████████████████████████████████████████| 100/100 [00:13<00:00,  7.29it/s, t_loss=1.24, i_acc=0.986]\n",
      "INFO:rasa.nlu.model:Finished training component.\n",
      "INFO:rasa.nlu.model:Starting to train component EntitySynonymMapper\n",
      "INFO:rasa.nlu.model:Finished training component.\n",
      "INFO:rasa.nlu.model:Starting to train component ResponseSelector\n",
      "INFO:rasa.nlu.selectors.response_selector:Retrieval intent parameter was left to its default value. This response selector will be trained on training examples combining all retrieval intents.\n",
      "INFO:rasa.nlu.model:Finished training component.\n",
      "INFO:rasa.nlu.model:Starting to train component FallbackClassifier\n",
      "INFO:rasa.nlu.model:Finished training component.\n",
      "INFO:rasa.nlu.model:Successfully saved model into '/home/baptister/CHATBOT_RAMONDA_V0/models/nlu/current'\n"
     ]
    }
   ],
   "source": [
    "import os\n",
    "import warnings\n",
    "from rasa.shared.nlu.training_data.loading import load_data\n",
    "from rasa.nlu.config import RasaNLUModelConfig\n",
    "from rasa.nlu.model import Trainer\n",
    "from rasa.nlu import config\n",
    "from os import system\n",
    "\n",
    "# Adapter le chemin à votre contexte\n",
    "PATH = '.'\n",
    "os.chdir(PATH)\n",
    "os.listdir()\n",
    "#Compléter avec le chemin vers votre environnement virtuel créé lors du 1er TP\n",
    "print(os.getcwd())\n",
    "print(os.listdir('data'))\n",
    "warnings.filterwarnings('ignore')\n",
    "\n",
    "# loading the nlu training samples\n",
    "training_data = load_data(\"./data/nlu.yml\")\n",
    "\n",
    "# trainer to educate our pipeline \n",
    "# décommenter le pipeline si besoin\n",
    "trainer = Trainer(config.load(\"./config.yml\"))\n",
    "\n",
    "# train the model!\n",
    "interpreter = trainer.train(training_data)\n",
    "\n",
    "# store it for future use\n",
    "model_directory = trainer.persist(\"./models/nlu\", fixed_model_name=\"current\")"
   ]
  },
  {
   "cell_type": "markdown",
   "metadata": {},
   "source": [
    "## 17- Commenter la trace obtenue et aller voir ce qu'il y a sous models/nlu/current en exécutant le code suivant"
   ]
  },
  {
   "cell_type": "code",
   "execution_count": 5,
   "metadata": {},
   "outputs": [
    {
     "name": "stdout",
     "output_type": "stream",
     "text": [
      "/home/baptister/CHATBOT_RAMONDA_V0\n",
      "['component_5_DIETClassifier.entity_tag_specs.json', 'component_5_DIETClassifier.sparse_feature_sizes.pkl', 'component_5_DIETClassifier.tf_model.data-00000-of-00001', 'component_5_DIETClassifier.data_example.pkl', 'component_3_CountVectorsFeaturizer.pkl', 'component_1_RegexFeaturizer.patterns.pkl', 'component_5_DIETClassifier.tf_model.index', 'component_4_CountVectorsFeaturizer.pkl', 'component_2_LexicalSyntacticFeaturizer.feature_to_idx_dict.pkl', 'component_5_DIETClassifier.label_data.pkl', 'metadata.json', 'checkpoint', 'component_5_DIETClassifier.index_label_id_mapping.json']\n"
     ]
    }
   ],
   "source": [
    "# PATH = '.'\n",
    "# os.chdir(PATH)\n",
    "# os.listdir()\n",
    "\n",
    "#Compléter avec le chemin vers votre environnement virtuel créé lors du 1er TP\n",
    "print(os.getcwd())\n",
    "print(os.listdir('models/nlu/current'))\n",
    "warnings.filterwarnings('ignore')"
   ]
  },
  {
   "cell_type": "markdown",
   "metadata": {},
   "source": [
    "Parmi les fichiers présents sous ``models/nlu/current``, on retrouve des éléments clés tels que le DIETClassifier, le CountVectorsFeaturizer, le RegexFeaturizer ou le LexicalSyntacticFeaturizer, chacun jouant un rôle spécifique dans le traitement et la compréhension du langage. Les fichiers incluent des spécifications d'entités, des données de modèle TensorFlow, des exemples de données, des mappages d'indices et d'étiquettes, ainsi que des fichiers de métadonnées."
   ]
  },
  {
   "cell_type": "markdown",
   "metadata": {},
   "source": [
    "## 18- Exécuter le code suivant en remplaçant la chaîne de caractères vide \"\" par la phrase à analyser représentant l'énoncé de l'utilisateur :  "
   ]
  },
  {
   "cell_type": "markdown",
   "metadata": {},
   "source": [
    "- I am fine thanks\n",
    "- Thank you \n",
    "- Thank you very much\n",
    "- I would like to thank you\n",
    "- I would rather prefer a puppy\n",
    "- I would rather have prefered a puppy\n",
    "- I would like to thank you very much for this\n",
    "\n",
    "Vous pouvez également proposer des phrases à traiter. \n",
    "\n",
    "<span style=\"color:red\"> ATTENTION : DUPLIQUER LA CELLULE A CHAQUE NOUVEL ESSAI POUR GARDER TRACE DES RESULTATS.</span>"
   ]
  },
  {
   "cell_type": "code",
   "execution_count": 6,
   "metadata": {},
   "outputs": [
    {
     "name": "stdout",
     "output_type": "stream",
     "text": [
      "{\n",
      "  \"text\": \"\",\n",
      "  \"intent\": {\n",
      "    \"name\": null,\n",
      "    \"confidence\": 0.0\n",
      "  },\n",
      "  \"entities\": []\n",
      "}\n"
     ]
    }
   ],
   "source": [
    "pprint(interpreter.parse(\"\"))"
   ]
  },
  {
   "cell_type": "code",
   "execution_count": 7,
   "metadata": {},
   "outputs": [
    {
     "name": "stdout",
     "output_type": "stream",
     "text": [
      "{\n",
      "  \"text\": \"I am fine thanks\",\n",
      "  \"intent\": {\n",
      "    \"id\": 1574417910962768474,\n",
      "    \"name\": \"thank_you\",\n",
      "    \"confidence\": 0.9790905714035034\n",
      "  },\n",
      "  \"entities\": [],\n",
      "  \"intent_ranking\": [\n",
      "    {\n",
      "      \"id\": 1574417910962768474,\n",
      "      \"name\": \"thank_you\",\n",
      "      \"confidence\": 0.9790905714035034\n",
      "    },\n",
      "    {\n",
      "      \"id\": 5077610613662007957,\n",
      "      \"name\": \"bot_challenge\",\n",
      "      \"confidence\": 0.008097002282738686\n",
      "    },\n",
      "    {\n",
      "      \"id\": 3167788271416946087,\n",
      "      \"name\": \"deny\",\n",
      "      \"confidence\": 0.007987754419445992\n",
      "    },\n",
      "    {\n",
      "      \"id\": -3441750811647636087,\n",
      "      \"name\": \"affirm\",\n",
      "      \"confidence\": 0.0015331238973885775\n",
      "    },\n",
      "    {\n",
      "      \"id\": -7670948765989341173,\n",
      "      \"name\": \"mood_unhappy\",\n",
      "      \"confidence\": 0.0013685234589502215\n",
      "    },\n",
      "    {\n",
      "      \"id\": -9191134602894458169,\n",
      "      \"name\": \"mood_great\",\n",
      "      \"confidence\": 0.0009903062600642443\n",
      "    },\n",
      "    {\n",
      "      \"id\": 4414529287305755619,\n",
      "      \"name\": \"greet\",\n",
      "      \"confidence\": 0.0005203216569498181\n",
      "    },\n",
      "    {\n",
      "      \"id\": -5413377744748633431,\n",
      "      \"name\": \"goodbye\",\n",
      "      \"confidence\": 0.0004124250262975693\n",
      "    }\n",
      "  ],\n",
      "  \"response_selector\": {\n",
      "    \"all_retrieval_intents\": [],\n",
      "    \"default\": {\n",
      "      \"response\": {\n",
      "        \"id\": null,\n",
      "        \"responses\": null,\n",
      "        \"response_templates\": null,\n",
      "        \"confidence\": 0.0,\n",
      "        \"intent_response_key\": null,\n",
      "        \"utter_action\": \"utter_None\",\n",
      "        \"template_name\": \"utter_None\"\n",
      "      },\n",
      "      \"ranking\": []\n",
      "    }\n",
      "  }\n",
      "}\n"
     ]
    }
   ],
   "source": [
    "pprint(interpreter.parse(\"I am fine thanks\"))"
   ]
  },
  {
   "cell_type": "code",
   "execution_count": 8,
   "metadata": {},
   "outputs": [
    {
     "name": "stdout",
     "output_type": "stream",
     "text": [
      "{\n",
      "  \"text\": \"Thank you\",\n",
      "  \"intent\": {\n",
      "    \"id\": 1574417910962768474,\n",
      "    \"name\": \"thank_you\",\n",
      "    \"confidence\": 0.9982759952545166\n",
      "  },\n",
      "  \"entities\": [],\n",
      "  \"intent_ranking\": [\n",
      "    {\n",
      "      \"id\": 1574417910962768474,\n",
      "      \"name\": \"thank_you\",\n",
      "      \"confidence\": 0.9982759952545166\n",
      "    },\n",
      "    {\n",
      "      \"id\": 5077610613662007957,\n",
      "      \"name\": \"bot_challenge\",\n",
      "      \"confidence\": 0.0009627593099139631\n",
      "    },\n",
      "    {\n",
      "      \"id\": -3441750811647636087,\n",
      "      \"name\": \"affirm\",\n",
      "      \"confidence\": 0.000276533275609836\n",
      "    },\n",
      "    {\n",
      "      \"id\": 3167788271416946087,\n",
      "      \"name\": \"deny\",\n",
      "      \"confidence\": 0.0002380653313593939\n",
      "    },\n",
      "    {\n",
      "      \"id\": -7670948765989341173,\n",
      "      \"name\": \"mood_unhappy\",\n",
      "      \"confidence\": 0.00016138334467541426\n",
      "    },\n",
      "    {\n",
      "      \"id\": -5413377744748633431,\n",
      "      \"name\": \"goodbye\",\n",
      "      \"confidence\": 6.202000804478303e-05\n",
      "    },\n",
      "    {\n",
      "      \"id\": 4414529287305755619,\n",
      "      \"name\": \"greet\",\n",
      "      \"confidence\": 1.875125235528685e-05\n",
      "    },\n",
      "    {\n",
      "      \"id\": -9191134602894458169,\n",
      "      \"name\": \"mood_great\",\n",
      "      \"confidence\": 4.521944447333226e-06\n",
      "    }\n",
      "  ],\n",
      "  \"response_selector\": {\n",
      "    \"all_retrieval_intents\": [],\n",
      "    \"default\": {\n",
      "      \"response\": {\n",
      "        \"id\": null,\n",
      "        \"responses\": null,\n",
      "        \"response_templates\": null,\n",
      "        \"confidence\": 0.0,\n",
      "        \"intent_response_key\": null,\n",
      "        \"utter_action\": \"utter_None\",\n",
      "        \"template_name\": \"utter_None\"\n",
      "      },\n",
      "      \"ranking\": []\n",
      "    }\n",
      "  }\n",
      "}\n"
     ]
    }
   ],
   "source": [
    "pprint(interpreter.parse(\"Thank you\"))"
   ]
  },
  {
   "cell_type": "code",
   "execution_count": 9,
   "metadata": {},
   "outputs": [
    {
     "name": "stdout",
     "output_type": "stream",
     "text": [
      "{\n",
      "  \"text\": \"I would prefer a puppy\",\n",
      "  \"intent\": {\n",
      "    \"id\": -9191134602894458169,\n",
      "    \"name\": \"mood_great\",\n",
      "    \"confidence\": 0.9796565771102905\n",
      "  },\n",
      "  \"entities\": [],\n",
      "  \"intent_ranking\": [\n",
      "    {\n",
      "      \"id\": -9191134602894458169,\n",
      "      \"name\": \"mood_great\",\n",
      "      \"confidence\": 0.9796565771102905\n",
      "    },\n",
      "    {\n",
      "      \"id\": -7670948765989341173,\n",
      "      \"name\": \"mood_unhappy\",\n",
      "      \"confidence\": 0.017199624329805374\n",
      "    },\n",
      "    {\n",
      "      \"id\": 5077610613662007957,\n",
      "      \"name\": \"bot_challenge\",\n",
      "      \"confidence\": 0.0014087639283388853\n",
      "    },\n",
      "    {\n",
      "      \"id\": 3167788271416946087,\n",
      "      \"name\": \"deny\",\n",
      "      \"confidence\": 0.0006812977371737361\n",
      "    },\n",
      "    {\n",
      "      \"id\": 4414529287305755619,\n",
      "      \"name\": \"greet\",\n",
      "      \"confidence\": 0.00048631097888574004\n",
      "    },\n",
      "    {\n",
      "      \"id\": -5413377744748633431,\n",
      "      \"name\": \"goodbye\",\n",
      "      \"confidence\": 0.0004509766586124897\n",
      "    },\n",
      "    {\n",
      "      \"id\": -3441750811647636087,\n",
      "      \"name\": \"affirm\",\n",
      "      \"confidence\": 9.835563832893968e-05\n",
      "    },\n",
      "    {\n",
      "      \"id\": 1574417910962768474,\n",
      "      \"name\": \"thank_you\",\n",
      "      \"confidence\": 1.8090671801473945e-05\n",
      "    }\n",
      "  ],\n",
      "  \"response_selector\": {\n",
      "    \"all_retrieval_intents\": [],\n",
      "    \"default\": {\n",
      "      \"response\": {\n",
      "        \"id\": null,\n",
      "        \"responses\": null,\n",
      "        \"response_templates\": null,\n",
      "        \"confidence\": 0.0,\n",
      "        \"intent_response_key\": null,\n",
      "        \"utter_action\": \"utter_None\",\n",
      "        \"template_name\": \"utter_None\"\n",
      "      },\n",
      "      \"ranking\": []\n",
      "    }\n",
      "  }\n",
      "}\n"
     ]
    }
   ],
   "source": [
    "pprint(interpreter.parse(\"I would prefer a puppy\"))"
   ]
  },
  {
   "cell_type": "code",
   "execution_count": 10,
   "metadata": {},
   "outputs": [
    {
     "name": "stdout",
     "output_type": "stream",
     "text": [
      "{\n",
      "  \"text\": \"I would have prefered a puppy\",\n",
      "  \"intent\": {\n",
      "    \"id\": -9191134602894458169,\n",
      "    \"name\": \"mood_great\",\n",
      "    \"confidence\": 0.9768802523612976\n",
      "  },\n",
      "  \"entities\": [],\n",
      "  \"intent_ranking\": [\n",
      "    {\n",
      "      \"id\": -9191134602894458169,\n",
      "      \"name\": \"mood_great\",\n",
      "      \"confidence\": 0.9768802523612976\n",
      "    },\n",
      "    {\n",
      "      \"id\": -5413377744748633431,\n",
      "      \"name\": \"goodbye\",\n",
      "      \"confidence\": 0.01679818518459797\n",
      "    },\n",
      "    {\n",
      "      \"id\": -7670948765989341173,\n",
      "      \"name\": \"mood_unhappy\",\n",
      "      \"confidence\": 0.0036091317888349295\n",
      "    },\n",
      "    {\n",
      "      \"id\": 4414529287305755619,\n",
      "      \"name\": \"greet\",\n",
      "      \"confidence\": 0.0010315324179828167\n",
      "    },\n",
      "    {\n",
      "      \"id\": 5077610613662007957,\n",
      "      \"name\": \"bot_challenge\",\n",
      "      \"confidence\": 0.0009350922773592174\n",
      "    },\n",
      "    {\n",
      "      \"id\": -3441750811647636087,\n",
      "      \"name\": \"affirm\",\n",
      "      \"confidence\": 0.00048771908041089773\n",
      "    },\n",
      "    {\n",
      "      \"id\": 3167788271416946087,\n",
      "      \"name\": \"deny\",\n",
      "      \"confidence\": 0.0002298539475305006\n",
      "    },\n",
      "    {\n",
      "      \"id\": 1574417910962768474,\n",
      "      \"name\": \"thank_you\",\n",
      "      \"confidence\": 2.822654278133996e-05\n",
      "    }\n",
      "  ],\n",
      "  \"response_selector\": {\n",
      "    \"all_retrieval_intents\": [],\n",
      "    \"default\": {\n",
      "      \"response\": {\n",
      "        \"id\": null,\n",
      "        \"responses\": null,\n",
      "        \"response_templates\": null,\n",
      "        \"confidence\": 0.0,\n",
      "        \"intent_response_key\": null,\n",
      "        \"utter_action\": \"utter_None\",\n",
      "        \"template_name\": \"utter_None\"\n",
      "      },\n",
      "      \"ranking\": []\n",
      "    }\n",
      "  }\n",
      "}\n"
     ]
    }
   ],
   "source": [
    "pprint(interpreter.parse(\"I would have prefered a puppy\"))"
   ]
  },
  {
   "cell_type": "code",
   "execution_count": 11,
   "metadata": {},
   "outputs": [
    {
     "name": "stdout",
     "output_type": "stream",
     "text": [
      "{\n",
      "  \"text\": \"I would like to thank you very much for this\",\n",
      "  \"intent\": {\n",
      "    \"id\": 1574417910962768474,\n",
      "    \"name\": \"thank_you\",\n",
      "    \"confidence\": 0.626882791519165\n",
      "  },\n",
      "  \"entities\": [],\n",
      "  \"intent_ranking\": [\n",
      "    {\n",
      "      \"id\": 1574417910962768474,\n",
      "      \"name\": \"thank_you\",\n",
      "      \"confidence\": 0.626882791519165\n",
      "    },\n",
      "    {\n",
      "      \"id\": 5077610613662007957,\n",
      "      \"name\": \"bot_challenge\",\n",
      "      \"confidence\": 0.1402049958705902\n",
      "    },\n",
      "    {\n",
      "      \"id\": 3167788271416946087,\n",
      "      \"name\": \"deny\",\n",
      "      \"confidence\": 0.11573117226362228\n",
      "    },\n",
      "    {\n",
      "      \"id\": -7670948765989341173,\n",
      "      \"name\": \"mood_unhappy\",\n",
      "      \"confidence\": 0.08545389026403427\n",
      "    },\n",
      "    {\n",
      "      \"id\": -9191134602894458169,\n",
      "      \"name\": \"mood_great\",\n",
      "      \"confidence\": 0.023066192865371704\n",
      "    },\n",
      "    {\n",
      "      \"id\": -3441750811647636087,\n",
      "      \"name\": \"affirm\",\n",
      "      \"confidence\": 0.0037836001720279455\n",
      "    },\n",
      "    {\n",
      "      \"id\": 4414529287305755619,\n",
      "      \"name\": \"greet\",\n",
      "      \"confidence\": 0.003344120690599084\n",
      "    },\n",
      "    {\n",
      "      \"id\": -5413377744748633431,\n",
      "      \"name\": \"goodbye\",\n",
      "      \"confidence\": 0.0015332606853917241\n",
      "    }\n",
      "  ],\n",
      "  \"response_selector\": {\n",
      "    \"all_retrieval_intents\": [],\n",
      "    \"default\": {\n",
      "      \"response\": {\n",
      "        \"id\": null,\n",
      "        \"responses\": null,\n",
      "        \"response_templates\": null,\n",
      "        \"confidence\": 0.0,\n",
      "        \"intent_response_key\": null,\n",
      "        \"utter_action\": \"utter_None\",\n",
      "        \"template_name\": \"utter_None\"\n",
      "      },\n",
      "      \"ranking\": []\n",
      "    }\n",
      "  }\n",
      "}\n"
     ]
    }
   ],
   "source": [
    "pprint(interpreter.parse(\"I would like to thank you very much for this\"))"
   ]
  },
  {
   "cell_type": "markdown",
   "metadata": {},
   "source": [
    "##### Commentaires sur les résultats obtenus"
   ]
  },
  {
   "cell_type": "markdown",
   "metadata": {},
   "source": [
    "Chaque résultat inclut le texte analysé, l'intention déterminée avec sa confiance associée, et un classement d'autres intentions possibles. Les résultats ne montrent pas la détection d'entités nommées spécifiques, mais suggèrent la possibilité d'une personnalisation des réponses en fonction des intentions détectées grâce à un sélecteur de réponse. Ces informations offrent un aperçu de la capacité du modèle à interpréter le sens des messages textuels en identifiant les intentions sous-jacentes avec des degrés de confiance."
   ]
  },
  {
   "cell_type": "markdown",
   "metadata": {},
   "source": [
    "# PARTIE 6 : Evolution du chatbot (suite) et évaluation"
   ]
  },
  {
   "cell_type": "markdown",
   "metadata": {},
   "source": [
    "## 19- Intégration de nouvelles intents et d'entités"
   ]
  },
  {
   "cell_type": "markdown",
   "metadata": {},
   "source": [
    "### 19.1)"
   ]
  },
  {
   "cell_type": "markdown",
   "metadata": {},
   "source": [
    " Que faut-il faire pour prendre en compte de nouvelles intentions (intent) qui permettraient de traiter des phrases comme : \n",
    "\n",
    "- I would like to see another animal \n",
    "- Do you have other animals to show\n",
    "- I want to see another picture\n",
    "\n",
    "Avec une réponse du type : ``I don't have any``\n",
    "\n",
    "Avec une réponse du type : ``Here is another one`` (avec affichage d'une autre image). "
   ]
  },
  {
   "cell_type": "markdown",
   "metadata": {},
   "source": [
    "Faites le nécessaire au niveau du chatbot pour prendre en compte ces modifications et pour faire fonctionner le chatbot comme prévu. "
   ]
  },
  {
   "cell_type": "markdown",
   "metadata": {},
   "source": [
    "### 19.2) "
   ]
  },
  {
   "cell_type": "markdown",
   "metadata": {},
   "source": [
    "Que faut-il faire pour prendre en compte de nouvelles intentions (intent) qui permettraient de traiter des phrases comme : \n",
    "\n",
    "- I would like to see a puppy\n",
    "- Do you have any pictures of butterflies\n",
    "- I want to see a koala\n",
    "\n",
    "Avec une réponse du type : ``Let me see ... I found this`` en affichant une image prise sur internet ou disponible en local. "
   ]
  },
  {
   "cell_type": "markdown",
   "metadata": {},
   "source": [
    "### 19.3) "
   ]
  },
  {
   "cell_type": "markdown",
   "metadata": {},
   "source": [
    "#### Créer une nouvelle version V2 (pour éviter d'écraser ce qui marche) et intégrer les modifications évoquées dans la questions précédente. Indiquer quelles sont les modifications apportées. Fichier par fichier concernés par ces modifications"
   ]
  },
  {
   "cell_type": "markdown",
   "metadata": {},
   "source": [
    "### 19.4) "
   ]
  },
  {
   "cell_type": "markdown",
   "metadata": {},
   "source": [
    "Illustrer en donnant des exemples de dialogue incluant ce type d'échanges\n",
    "\n",
    "- User : I would like to see a puppy\n",
    "- Chatbot : Let me see ... I found this ... Does it help ? \n",
    "\n"
   ]
  },
  {
   "cell_type": "markdown",
   "metadata": {},
   "source": [
    "##### Exemple 1"
   ]
  },
  {
   "cell_type": "raw",
   "metadata": {},
   "source": []
  },
  {
   "cell_type": "markdown",
   "metadata": {},
   "source": [
    "##### Exemple 2"
   ]
  },
  {
   "cell_type": "raw",
   "metadata": {},
   "source": []
  },
  {
   "cell_type": "markdown",
   "metadata": {},
   "source": [
    "### 19.5)"
   ]
  },
  {
   "cell_type": "markdown",
   "metadata": {},
   "source": [
    "#### Faire évoluer votre chatbot sur les mêmes principes. Commenter et illustrer ces ajouts (Demander quel est votre animal préféré, ajouter une table lookup pour gérer les synonymes ... ou ajouter d'autres règles"
   ]
  },
  {
   "cell_type": "markdown",
   "metadata": {},
   "source": [
    "##### Evolution de votre chatbot et Commentaires associés"
   ]
  },
  {
   "cell_type": "markdown",
   "metadata": {},
   "source": []
  },
  {
   "cell_type": "markdown",
   "metadata": {},
   "source": [
    "## 20- A partir de rasa x et l'onglet stories"
   ]
  },
  {
   "cell_type": "markdown",
   "metadata": {},
   "source": [
    "#### Observer les modèles de dialogue associés aux différentes stories. Faire une capture écran de l'un des graphes les plus représentatifs et insérez le dans la cellue suivante"
   ]
  },
  {
   "cell_type": "markdown",
   "metadata": {},
   "source": []
  },
  {
   "cell_type": "markdown",
   "metadata": {},
   "source": [
    "## 21 - Visualisation"
   ]
  },
  {
   "cell_type": "code",
   "execution_count": null,
   "metadata": {},
   "outputs": [],
   "source": []
  },
  {
   "cell_type": "markdown",
   "metadata": {},
   "source": [
    "Quitter rasa x en fermant la fenêtre du navigateur ET en tapant ``^C`` dans le terminal de lancement. \n",
    "\n",
    "Une fois rasa x attrêté, tapez la commande : ``rasa visualize``\n",
    "    \n",
    "- Visualisez le fichier Graph.html \n",
    "- Insérer dans la cellule suivante une copie image de ce graphe (copie écran ou autre) \n",
    "\n",
    "#### Que représente-t-il ? "
   ]
  },
  {
   "cell_type": "markdown",
   "metadata": {},
   "source": []
  },
  {
   "cell_type": "markdown",
   "metadata": {},
   "source": [
    "## 22- Evaluation de la nouvelle version et fin"
   ]
  },
  {
   "cell_type": "markdown",
   "metadata": {},
   "source": [
    "#### Constituer un fichier de test adapté à ce nouveau chatbot et reprendre les questions de la partie 2 - Q7  pour visualiser et commenter les résultats obtenus. "
   ]
  },
  {
   "cell_type": "markdown",
   "metadata": {},
   "source": []
  },
  {
   "cell_type": "markdown",
   "metadata": {},
   "source": [
    "Faire un pdf de votre notebook, déposer une archive contenant votre chatbot CHATBOT_V1_VOTRE_NOM ainsi que la version ipynb et la version pdf de votre notebook. "
   ]
  }
 ],
 "metadata": {
  "kernelspec": {
   "display_name": "Python 3 (ipykernel)",
   "language": "python",
   "name": "python3"
  },
  "language_info": {
   "codemirror_mode": {
    "name": "ipython",
    "version": 3
   },
   "file_extension": ".py",
   "mimetype": "text/x-python",
   "name": "python",
   "nbconvert_exporter": "python",
   "pygments_lexer": "ipython3",
   "version": "3.7.16"
  }
 },
 "nbformat": 4,
 "nbformat_minor": 2
}
